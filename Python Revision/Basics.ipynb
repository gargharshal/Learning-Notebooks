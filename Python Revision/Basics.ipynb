{
 "metadata": {
  "language_info": {
   "codemirror_mode": {
    "name": "ipython",
    "version": 3
   },
   "file_extension": ".py",
   "mimetype": "text/x-python",
   "name": "python",
   "nbconvert_exporter": "python",
   "pygments_lexer": "ipython3",
   "version": "3.8.5"
  },
  "orig_nbformat": 2,
  "kernelspec": {
   "name": "python385jvsc74a57bd0bf7f803c3cf389d271641452716cd22e8842a25a973c6285731a4e25d10f967d",
   "display_name": "Python 3.8.5 64-bit ('base': conda)"
  }
 },
 "nbformat": 4,
 "nbformat_minor": 2,
 "cells": [
  {
   "cell_type": "code",
   "execution_count": 16,
   "metadata": {},
   "outputs": [
    {
     "output_type": "stream",
     "name": "stdout",
     "text": [
      "45\n"
     ]
    }
   ],
   "source": [
    "# Execute commond - exec() https://stackoverflow.com/questions/2220699/whats-the-difference-between-eval-exec-and-compile\n",
    "\n",
    "x = 9\n",
    "exec ('print(5*x)')"
   ]
  },
  {
   "cell_type": "code",
   "execution_count": 20,
   "metadata": {},
   "outputs": [
    {
     "output_type": "stream",
     "name": "stdout",
     "text": [
      "('1', '2', '3', '4')\n"
     ]
    }
   ],
   "source": [
    "# spliting and joining the string to create a list\n",
    "\n",
    "x = input().split() # split and convert in list\n",
    "print(tuple(x))\n"
   ]
  },
  {
   "cell_type": "code",
   "execution_count": 21,
   "metadata": {},
   "outputs": [
    {
     "output_type": "stream",
     "name": "stdout",
     "text": [
      "['1', '2', '3', '4']\n"
     ]
    }
   ],
   "source": [
    "\" \".join(x) # joins and converts in a list\n",
    "print(x)"
   ]
  },
  {
   "cell_type": "code",
   "execution_count": 30,
   "metadata": {},
   "outputs": [
    {
     "output_type": "stream",
     "name": "stdout",
     "text": [
      "value is 100.00\nvalue is 100.00\n"
     ]
    }
   ],
   "source": [
    "# .format - https://realpython.com/python-formatted-output/\n",
    "# Converting into specific base\n",
    "# Converting float into specific digit\n",
    "# Printing variable in a string - code 6\n",
    "# Alignment of a string - code 7 (We can also use ljust, rjust, center)\n",
    "# https://www.geeksforgeeks.org/python-format-function/\n",
    "value = 100\n",
    "\n",
    "print(\"value is {0:.2f}\".format(value))\n",
    "\n",
    "# another method of using format is f-string\n",
    "print(f\"value is {value:.2f}\")\n"
   ]
  },
  {
   "cell_type": "code",
   "execution_count": 28,
   "metadata": {},
   "outputs": [
    {
     "output_type": "stream",
     "name": "stdout",
     "text": [
      "value is 100\n"
     ]
    }
   ],
   "source": []
  },
  {
   "cell_type": "code",
   "execution_count": 31,
   "metadata": {},
   "outputs": [
    {
     "output_type": "stream",
     "name": "stdout",
     "text": [
      "Which number is biggest?\n100\nWhich number is the biggest modulo 5?\n14\n"
     ]
    }
   ],
   "source": [
    "# usage of the function key\n",
    "\n",
    "def mod_5(x):\n",
    "    \"\"\"Return the remainder of x after dividing by 5\"\"\"\n",
    "    return x % 5\n",
    "\n",
    "print(\n",
    "    # 'Which number is biggest?',\n",
    "    max(100, 51, 14),\n",
    "    # 'Which number is the biggest modulo 5?',\n",
    "    max(100, 51, 14, key=mod_5), # returns value which has highest value according to the key.\n",
    "    sep='\\n',\n",
    ")"
   ]
  },
  {
   "cell_type": "code",
   "execution_count": null,
   "metadata": {},
   "outputs": [],
   "source": []
  }
 ]
}
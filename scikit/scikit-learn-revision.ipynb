{
  "nbformat": 4,
  "nbformat_minor": 0,
  "metadata": {
    "kernelspec": {
      "display_name": "Python 3",
      "language": "python",
      "name": "python3"
    },
    "language_info": {
      "codemirror_mode": {
        "name": "ipython",
        "version": 3
      },
      "file_extension": ".py",
      "mimetype": "text/x-python",
      "name": "python",
      "nbconvert_exporter": "python",
      "pygments_lexer": "ipython3",
      "version": "3.8.8"
    },
    "colab": {
      "name": "scikit-learn-revision.ipynb",
      "provenance": []
    }
  },
  "cells": [
    {
      "cell_type": "markdown",
      "metadata": {
        "id": "Ja9TFK7hGIxy"
      },
      "source": [
        "# Scikit-Learn Practice Exercises\n",
        "\n",
        "This notebook offers a set of excercises for different tasks with Scikit-Learn.\n",
        "\n",
        "Notes:\n",
        "* There may be more than one different way to answer a question or complete an exercise. \n",
        "* Some skeleton code has been implemented for you.\n",
        "* Exercises are based off (and directly taken from) the quick [introduction to Scikit-Learn notebook](https://github.com/mrdbourke/zero-to-mastery-ml/blob/master/section-2-data-science-and-ml-tools/introduction-to-scikit-learn.ipynb).\n",
        "* Different tasks will be detailed by comments or text. Places to put your own code are defined by `###` (don't remove anything other than `###`).\n",
        "\n",
        "For further reference and resources, it's advised to check out the [Scikit-Learn documnetation](https://scikit-learn.org/stable/user_guide.html).\n",
        "\n",
        "And if you get stuck, try searching for a question in the following format: \"how to do XYZ with Scikit-Learn\", where XYZ is the function you want to leverage from Scikit-Learn.\n",
        "\n",
        "Since we'll be working with data, we'll import Scikit-Learn's counterparts, Matplotlib, NumPy and pandas.\n",
        "\n",
        "Let's get started."
      ]
    },
    {
      "cell_type": "code",
      "metadata": {
        "id": "f6Vz48F7GIx3"
      },
      "source": [
        "# Setup matplotlib to plot inline (within the notebook)\n",
        "%matplotlib inline \n",
        "# Import the pyplot module of Matplotlib as plt\n",
        "from matplotlib import pyplot as plt \n",
        "\n",
        "# Import pandas under the abbreviation 'pd'\n",
        "import numpy as np\n",
        "import pandas as pd\n",
        "# Import NumPy under the abbreviation 'np'"
      ],
      "execution_count": 5,
      "outputs": []
    },
    {
      "cell_type": "markdown",
      "metadata": {
        "id": "Iwg0CHXeGIx5"
      },
      "source": [
        "## End-to-end Scikit-Learn classification workflow\n",
        "\n",
        "Let's start with an end to end Scikit-Learn workflow.\n",
        "\n",
        "More specifically, we'll:\n",
        "1. Get a dataset ready\n",
        "2. Prepare a machine learning model to make predictions\n",
        "3. Fit the model to the data and make a prediction\n",
        "4. Evaluate the model's predictions \n",
        "\n",
        "The data we'll be using is [stored on GitHub](https://github.com/mrdbourke/zero-to-mastery-ml/tree/master/data). We'll start with [`heart-disease.csv`](https://raw.githubusercontent.com/mrdbourke/zero-to-mastery-ml/master/data/heart-disease.csv), a dataset which contains anonymous patient data and whether or not they have heart disease.\n",
        "\n",
        "**Note:** When viewing a `.csv` on GitHub, make sure it's in the raw format. For example, the URL should look like: https://raw.githubusercontent.com/mrdbourke/zero-to-mastery-ml/master/data/heart-disease.csv\n",
        "\n",
        "### 1. Getting a dataset ready"
      ]
    },
    {
      "cell_type": "code",
      "metadata": {
        "id": "WheLxuAHGIx-",
        "colab": {
          "base_uri": "https://localhost:8080/",
          "height": 204
        },
        "outputId": "538e5d99-4324-4560-e5d9-5bea6a8774e9"
      },
      "source": [
        "# Import the heart disease dataset and save it to a variable\n",
        "# using pandas and read_csv()\n",
        "# Hint: You can directly pass the URL of a csv to read_csv()\n",
        "heart_disease = pd.read_csv(\"https://raw.githubusercontent.com/mrdbourke/zero-to-mastery-ml/master/data/heart-disease.csv\")\n",
        "\n",
        "# Check the first 5 rows of the data\n",
        "heart_disease.head()"
      ],
      "execution_count": 6,
      "outputs": [
        {
          "output_type": "execute_result",
          "data": {
            "text/html": [
              "<div>\n",
              "<style scoped>\n",
              "    .dataframe tbody tr th:only-of-type {\n",
              "        vertical-align: middle;\n",
              "    }\n",
              "\n",
              "    .dataframe tbody tr th {\n",
              "        vertical-align: top;\n",
              "    }\n",
              "\n",
              "    .dataframe thead th {\n",
              "        text-align: right;\n",
              "    }\n",
              "</style>\n",
              "<table border=\"1\" class=\"dataframe\">\n",
              "  <thead>\n",
              "    <tr style=\"text-align: right;\">\n",
              "      <th></th>\n",
              "      <th>age</th>\n",
              "      <th>sex</th>\n",
              "      <th>cp</th>\n",
              "      <th>trestbps</th>\n",
              "      <th>chol</th>\n",
              "      <th>fbs</th>\n",
              "      <th>restecg</th>\n",
              "      <th>thalach</th>\n",
              "      <th>exang</th>\n",
              "      <th>oldpeak</th>\n",
              "      <th>slope</th>\n",
              "      <th>ca</th>\n",
              "      <th>thal</th>\n",
              "      <th>target</th>\n",
              "    </tr>\n",
              "  </thead>\n",
              "  <tbody>\n",
              "    <tr>\n",
              "      <th>0</th>\n",
              "      <td>63</td>\n",
              "      <td>1</td>\n",
              "      <td>3</td>\n",
              "      <td>145</td>\n",
              "      <td>233</td>\n",
              "      <td>1</td>\n",
              "      <td>0</td>\n",
              "      <td>150</td>\n",
              "      <td>0</td>\n",
              "      <td>2.3</td>\n",
              "      <td>0</td>\n",
              "      <td>0</td>\n",
              "      <td>1</td>\n",
              "      <td>1</td>\n",
              "    </tr>\n",
              "    <tr>\n",
              "      <th>1</th>\n",
              "      <td>37</td>\n",
              "      <td>1</td>\n",
              "      <td>2</td>\n",
              "      <td>130</td>\n",
              "      <td>250</td>\n",
              "      <td>0</td>\n",
              "      <td>1</td>\n",
              "      <td>187</td>\n",
              "      <td>0</td>\n",
              "      <td>3.5</td>\n",
              "      <td>0</td>\n",
              "      <td>0</td>\n",
              "      <td>2</td>\n",
              "      <td>1</td>\n",
              "    </tr>\n",
              "    <tr>\n",
              "      <th>2</th>\n",
              "      <td>41</td>\n",
              "      <td>0</td>\n",
              "      <td>1</td>\n",
              "      <td>130</td>\n",
              "      <td>204</td>\n",
              "      <td>0</td>\n",
              "      <td>0</td>\n",
              "      <td>172</td>\n",
              "      <td>0</td>\n",
              "      <td>1.4</td>\n",
              "      <td>2</td>\n",
              "      <td>0</td>\n",
              "      <td>2</td>\n",
              "      <td>1</td>\n",
              "    </tr>\n",
              "    <tr>\n",
              "      <th>3</th>\n",
              "      <td>56</td>\n",
              "      <td>1</td>\n",
              "      <td>1</td>\n",
              "      <td>120</td>\n",
              "      <td>236</td>\n",
              "      <td>0</td>\n",
              "      <td>1</td>\n",
              "      <td>178</td>\n",
              "      <td>0</td>\n",
              "      <td>0.8</td>\n",
              "      <td>2</td>\n",
              "      <td>0</td>\n",
              "      <td>2</td>\n",
              "      <td>1</td>\n",
              "    </tr>\n",
              "    <tr>\n",
              "      <th>4</th>\n",
              "      <td>57</td>\n",
              "      <td>0</td>\n",
              "      <td>0</td>\n",
              "      <td>120</td>\n",
              "      <td>354</td>\n",
              "      <td>0</td>\n",
              "      <td>1</td>\n",
              "      <td>163</td>\n",
              "      <td>1</td>\n",
              "      <td>0.6</td>\n",
              "      <td>2</td>\n",
              "      <td>0</td>\n",
              "      <td>2</td>\n",
              "      <td>1</td>\n",
              "    </tr>\n",
              "  </tbody>\n",
              "</table>\n",
              "</div>"
            ],
            "text/plain": [
              "   age  sex  cp  trestbps  chol  fbs  ...  exang  oldpeak  slope  ca  thal  target\n",
              "0   63    1   3       145   233    1  ...      0      2.3      0   0     1       1\n",
              "1   37    1   2       130   250    0  ...      0      3.5      0   0     2       1\n",
              "2   41    0   1       130   204    0  ...      0      1.4      2   0     2       1\n",
              "3   56    1   1       120   236    0  ...      0      0.8      2   0     2       1\n",
              "4   57    0   0       120   354    0  ...      1      0.6      2   0     2       1\n",
              "\n",
              "[5 rows x 14 columns]"
            ]
          },
          "metadata": {
            "tags": []
          },
          "execution_count": 6
        }
      ]
    },
    {
      "cell_type": "markdown",
      "metadata": {
        "id": "rQT8NsoZGIyA"
      },
      "source": [
        "Our goal here is to build a machine learning model on all of the columns except `target` to predict `target`.\n",
        "\n",
        "In essence, the `target` column is our **target variable** (also called `y` or `labels`) and the rest of the other columns are our independent variables (also called `data` or `X`).\n",
        "\n",
        "And since our target variable is one thing or another (heart disease or not), we know our problem is a classification problem (classifying whether something is one thing or another).\n",
        "\n",
        "Knowing this, let's create `X` and `y` by splitting our dataframe up."
      ]
    },
    {
      "cell_type": "code",
      "metadata": {
        "id": "uWRXm2yyGIyC"
      },
      "source": [
        "# Create X (all columns except target)\n",
        "X = heart_disease.drop([\"target\"], axis = 1)\n",
        "\n",
        "# Create y (only the target column)\n",
        "y = heart_disease[\"target\"]"
      ],
      "execution_count": 7,
      "outputs": []
    },
    {
      "cell_type": "markdown",
      "metadata": {
        "id": "0wuWmnqqGIyD"
      },
      "source": [
        "Now we've split our data into `X` and `y`, we'll use Scikit-Learn to split it into training and test sets."
      ]
    },
    {
      "cell_type": "code",
      "metadata": {
        "id": "508K8s7qGIyD"
      },
      "source": [
        "# Import train_test_split from sklearn's model_selection module\n",
        "from sklearn.model_selection import train_test_split \n",
        "\n",
        "# Use train_test_split to split X & y into training and test sets\n",
        "X_train, X_test, y_train, y_test = train_test_split(X, y, train_size = 0.8)"
      ],
      "execution_count": 8,
      "outputs": []
    },
    {
      "cell_type": "code",
      "metadata": {
        "id": "GO-V8NcdGIyE",
        "colab": {
          "base_uri": "https://localhost:8080/"
        },
        "outputId": "9d62ffdc-641a-4c0d-9801-31b55459527e"
      },
      "source": [
        "# View the different shapes of the training and test datasets\n",
        "X_train.shape, X_test.shape, y_train.shape, y_test.shape"
      ],
      "execution_count": 9,
      "outputs": [
        {
          "output_type": "execute_result",
          "data": {
            "text/plain": [
              "((242, 13), (61, 13), (242,), (61,))"
            ]
          },
          "metadata": {
            "tags": []
          },
          "execution_count": 9
        }
      ]
    },
    {
      "cell_type": "markdown",
      "metadata": {
        "id": "AM63uEr9GIyF"
      },
      "source": [
        "What do you notice about the different shapes of the data?\n",
        "\n",
        "Since our data is now in training and test sets, we'll build a machine learning model to fit patterns in the training data and then make predictions on the test data.\n",
        "\n",
        "To figure out which machine learning model we should use, you can refer to [Scikit-Learn's machine learning map](https://scikit-learn.org/stable/tutorial/machine_learning_map/index.html).\n",
        "\n",
        "After following the map, you decide to use the [`RandomForestClassifier`](https://scikit-learn.org/stable/modules/generated/sklearn.ensemble.RandomForestClassifier.html).\n",
        "\n",
        "### 2. Preparing a machine learning model"
      ]
    },
    {
      "cell_type": "code",
      "metadata": {
        "id": "31X20ysEGIyG"
      },
      "source": [
        "# Import the RandomForestClassifier from sklearn's ensemble module\n",
        "from sklearn.ensemble import RandomForestClassifier\n",
        "\n",
        "# Instantiate an instance of RandomForestClassifier as clf\n",
        "clf = RandomForestClassifier()"
      ],
      "execution_count": 10,
      "outputs": []
    },
    {
      "cell_type": "markdown",
      "metadata": {
        "id": "4moXs7fZGIyI"
      },
      "source": [
        "Now you've got a `RandomForestClassifier` instance, let's fit it to the training data.\n",
        "\n",
        "Once it's fit, we'll make predictions on the test data.\n",
        "\n",
        "### 3. Fitting a model and making predictions"
      ]
    },
    {
      "cell_type": "code",
      "metadata": {
        "id": "1aFUyhgpGIyJ",
        "colab": {
          "base_uri": "https://localhost:8080/"
        },
        "outputId": "3c65f83f-34bb-4a60-96de-b6fae8616840"
      },
      "source": [
        "# Fit the RandomForestClassifier to the training data\n",
        "clf.fit(X_train, y_train)"
      ],
      "execution_count": 11,
      "outputs": [
        {
          "output_type": "execute_result",
          "data": {
            "text/plain": [
              "RandomForestClassifier(bootstrap=True, ccp_alpha=0.0, class_weight=None,\n",
              "                       criterion='gini', max_depth=None, max_features='auto',\n",
              "                       max_leaf_nodes=None, max_samples=None,\n",
              "                       min_impurity_decrease=0.0, min_impurity_split=None,\n",
              "                       min_samples_leaf=1, min_samples_split=2,\n",
              "                       min_weight_fraction_leaf=0.0, n_estimators=100,\n",
              "                       n_jobs=None, oob_score=False, random_state=None,\n",
              "                       verbose=0, warm_start=False)"
            ]
          },
          "metadata": {
            "tags": []
          },
          "execution_count": 11
        }
      ]
    },
    {
      "cell_type": "code",
      "metadata": {
        "id": "JF85hI-lGIyL"
      },
      "source": [
        "# Use the fitted model to make predictions on the test data and\n",
        "# save the predictions to a variable called y_preds\n",
        "y_preds = clf.predict(X_test)"
      ],
      "execution_count": 12,
      "outputs": []
    },
    {
      "cell_type": "markdown",
      "metadata": {
        "id": "EzIAfUQWGIyM"
      },
      "source": [
        "### 4. Evaluating a model's predictions\n",
        "\n",
        "Evaluating predictions is as important making them. Let's check how our model did by comparing the predictions it made on the test data (`y_preds`) to the ground truth labels (`y_test`)."
      ]
    },
    {
      "cell_type": "code",
      "metadata": {
        "id": "BQKEbc8hGIyM",
        "colab": {
          "base_uri": "https://localhost:8080/"
        },
        "outputId": "77905ad0-c50e-4b8c-e26f-0f978895ba96"
      },
      "source": [
        "# Evaluate the fitted model on the training set using the score() function\n",
        "clf.score(X_train, y_train)"
      ],
      "execution_count": 13,
      "outputs": [
        {
          "output_type": "execute_result",
          "data": {
            "text/plain": [
              "1.0"
            ]
          },
          "metadata": {
            "tags": []
          },
          "execution_count": 13
        }
      ]
    },
    {
      "cell_type": "code",
      "metadata": {
        "id": "K1OrMjV_GIyN",
        "colab": {
          "base_uri": "https://localhost:8080/"
        },
        "outputId": "ab10ae83-0a70-418f-d18f-5416e685a4b3"
      },
      "source": [
        "# Evaluate the fitted model on the test set using the score() function\n",
        "clf.score(X_test, y_test)"
      ],
      "execution_count": 14,
      "outputs": [
        {
          "output_type": "execute_result",
          "data": {
            "text/plain": [
              "0.819672131147541"
            ]
          },
          "metadata": {
            "tags": []
          },
          "execution_count": 14
        }
      ]
    },
    {
      "cell_type": "markdown",
      "metadata": {
        "id": "QGAjAA9ZGIyN"
      },
      "source": [
        "* How did you model go? \n",
        "* What metric does `score()` return for classifiers? \n",
        "* Did your model do better on the training dataset or test dataset?"
      ]
    },
    {
      "cell_type": "markdown",
      "metadata": {
        "id": "v3b7fEiwGIyO"
      },
      "source": [
        "## Experimenting with different classification models\n",
        "\n",
        "Now we've quickly covered an end-to-end Scikit-Learn workflow and since experimenting is a large part of machine learning, we'll now try a series of different machine learning models and see which gets the best results on our dataset.\n",
        "\n",
        "Going through the [Scikit-Learn machine learning map](https://scikit-learn.org/stable/tutorial/machine_learning_map/index.html), we see there are a number of different classification models we can try (different models are in the green boxes).\n",
        "\n",
        "For this exercise, the models we're going to try and compare are:\n",
        "* [LinearSVC](https://scikit-learn.org/stable/modules/svm.html#classification)\n",
        "* [KNeighborsClassifier](https://scikit-learn.org/stable/modules/neighbors.html) (also known as K-Nearest Neighbors or KNN)\n",
        "* [SVC](https://scikit-learn.org/stable/modules/svm.html#classification) (also known as support vector classifier, a form of [support vector machine](https://en.wikipedia.org/wiki/Support-vector_machine))\n",
        "* [LogisticRegression](https://scikit-learn.org/stable/modules/generated/sklearn.linear_model.LogisticRegression.html) (despite the name, this is actually a classifier)\n",
        "* [RandomForestClassifier](https://scikit-learn.org/stable/modules/generated/sklearn.ensemble.RandomForestClassifier.html) (an ensemble method and what we used above)\n",
        "\n",
        "We'll follow the same workflow we used above (except this time for multiple models):\n",
        "1. Import a machine learning model\n",
        "2. Get it ready\n",
        "3. Fit it to the data and make predictions\n",
        "4. Evaluate the fitted model\n",
        "\n",
        "**Note:** Since we've already got the data ready, we can reuse it in this section."
      ]
    },
    {
      "cell_type": "code",
      "metadata": {
        "id": "GxRpLNx_GIyO"
      },
      "source": [
        "# Import LinearSVC from sklearn's svm module\n",
        "from sklearn.svm import LinearSVC, SVC \n",
        "\n",
        "# Import KNeighborsClassifier from sklearn's neighbors module\n",
        "from sklearn.neighbors import KNeighborsClassifier\n",
        "\n",
        "# Import SVC from sklearn's svm module\n",
        "###\n",
        "\n",
        "# Import LogisticRegression from sklearn's linear_model module\n",
        "from sklearn.linear_model import LogisticRegression\n",
        "\n",
        "# Note: we don't have to import RandomForestClassifier, since we already have"
      ],
      "execution_count": 15,
      "outputs": []
    },
    {
      "cell_type": "markdown",
      "metadata": {
        "id": "fF9e8lEYGIyP"
      },
      "source": [
        "Thanks to the consistency of Scikit-Learn's API design, we can use virtually the same code to fit, score and make predictions with each of our models.\n",
        "\n",
        "To see which model performs best, we'll do the following:\n",
        "1. Instantiate each model in a dictionary\n",
        "2. Create an empty results dictionary\n",
        "3. Fit each model on the training data\n",
        "4. Score each model on the test data\n",
        "5. Check the results\n",
        "\n",
        "If you're wondering what it means to instantiate each model in a dictionary, see the example below."
      ]
    },
    {
      "cell_type": "code",
      "metadata": {
        "id": "sPbUGDWmGIyP"
      },
      "source": [
        "# EXAMPLE: Instantiating a RandomForestClassifier() in a dictionary\n",
        "example_dict = {\"RandomForestClassifier\": RandomForestClassifier()}\n",
        "\n",
        "# Create a dictionary called models which contains all of the classification models we've imported\n",
        "# Make sure the dictionary is in the same format as example_dict\n",
        "# The models dictionary should contain 5 models\n",
        "models = {\"LinearSVC\": LinearSVC(),\n",
        "          \"KNN\": KNeighborsClassifier(),\n",
        "          \"SVC\": SVC(),\n",
        "          \"LogisticRegression\": LogisticRegression(),\n",
        "          \"RandomForestClassifier\": RandomForestClassifier()}\n",
        "\n",
        "# Create an empty dictionary called results\n",
        "results = {}"
      ],
      "execution_count": 16,
      "outputs": []
    },
    {
      "cell_type": "markdown",
      "metadata": {
        "id": "ST2MEzERGIyP"
      },
      "source": [
        "Since each model we're using has the same `fit()` and `score()` functions, we can loop through our models dictionary and, call `fit()` on the training data and then call `score()` with the test data."
      ]
    },
    {
      "cell_type": "code",
      "metadata": {
        "id": "rd2mB1evGIyQ",
        "colab": {
          "base_uri": "https://localhost:8080/"
        },
        "outputId": "725bb240-d25e-408b-ca08-f5bc14688241"
      },
      "source": [
        "# EXAMPLE: Looping through example_dict fitting and scoring the model\n",
        "example_results = {}\n",
        "for model_name, model in example_dict.items():\n",
        "    model.fit(X_train, y_train)\n",
        "    example_results[model_name] = model.score(X_test, y_test)\n",
        "\n",
        "# EXAMPLE: View the results\n",
        "example_results    "
      ],
      "execution_count": 17,
      "outputs": [
        {
          "output_type": "execute_result",
          "data": {
            "text/plain": [
              "{'RandomForestClassifier': 0.8032786885245902}"
            ]
          },
          "metadata": {
            "tags": []
          },
          "execution_count": 17
        }
      ]
    },
    {
      "cell_type": "code",
      "metadata": {
        "id": "tUaPxElRGIyU",
        "colab": {
          "base_uri": "https://localhost:8080/"
        },
        "outputId": "094e7946-14bf-432a-f208-5eb43d9f2770"
      },
      "source": [
        "# Loop through the models dictionary items, fitting the model on the training data\n",
        "# and appending the model name and model score on the test data to the results dictionary\n",
        "for model_name, model in models.items():\n",
        "    model.fit(X_train, y_train)\n",
        "    results[model_name] = model.score(X_test, y_test)\n",
        "\n",
        "# View the results\n",
        "results"
      ],
      "execution_count": 18,
      "outputs": [
        {
          "output_type": "stream",
          "text": [
            "/usr/local/lib/python3.7/dist-packages/sklearn/svm/_base.py:947: ConvergenceWarning: Liblinear failed to converge, increase the number of iterations.\n",
            "  \"the number of iterations.\", ConvergenceWarning)\n",
            "/usr/local/lib/python3.7/dist-packages/sklearn/linear_model/_logistic.py:940: ConvergenceWarning: lbfgs failed to converge (status=1):\n",
            "STOP: TOTAL NO. of ITERATIONS REACHED LIMIT.\n",
            "\n",
            "Increase the number of iterations (max_iter) or scale the data as shown in:\n",
            "    https://scikit-learn.org/stable/modules/preprocessing.html\n",
            "Please also refer to the documentation for alternative solver options:\n",
            "    https://scikit-learn.org/stable/modules/linear_model.html#logistic-regression\n",
            "  extra_warning_msg=_LOGISTIC_SOLVER_CONVERGENCE_MSG)\n"
          ],
          "name": "stderr"
        },
        {
          "output_type": "execute_result",
          "data": {
            "text/plain": [
              "{'KNN': 0.6229508196721312,\n",
              " 'LinearSVC': 0.6065573770491803,\n",
              " 'LogisticRegression': 0.8360655737704918,\n",
              " 'RandomForestClassifier': 0.819672131147541,\n",
              " 'SVC': 0.6229508196721312}"
            ]
          },
          "metadata": {
            "tags": []
          },
          "execution_count": 18
        }
      ]
    },
    {
      "cell_type": "markdown",
      "metadata": {
        "id": "RFh454-KGIyU"
      },
      "source": [
        "* Which model performed the best? \n",
        "* Do the results change each time you run the cell? \n",
        "* Why do you think this is?\n",
        "\n",
        "Due to the randomness of how each model finds patterns in the data, you might notice different results each time.\n",
        "\n",
        "Without manually setting the random state using the `random_state` parameter of some models or using a NumPy random seed, every time you run the cell, you'll get slightly different results.\n",
        "\n",
        "Let's see this in effect by running the same code as the cell above, except this time setting a [NumPy random seed equal to 42](https://docs.scipy.org/doc/numpy-1.15.1/reference/generated/numpy.random.seed.html)."
      ]
    },
    {
      "cell_type": "code",
      "metadata": {
        "id": "pBw1B765GIyV",
        "colab": {
          "base_uri": "https://localhost:8080/"
        },
        "outputId": "f2002fe0-1056-46f3-c215-6f70aaa8ac05"
      },
      "source": [
        "# Run the same code as the cell above, except this time set a NumPy random seed\n",
        "# equal to 42\n",
        "np.random.seed(42)\n",
        "\n",
        "for model_name, model in models.items():\n",
        "    model.fit(X_train, y_train)\n",
        "    results[model_name] = model.score(X_test, y_test)\n",
        "    \n",
        "results"
      ],
      "execution_count": 19,
      "outputs": [
        {
          "output_type": "stream",
          "text": [
            "/usr/local/lib/python3.7/dist-packages/sklearn/svm/_base.py:947: ConvergenceWarning: Liblinear failed to converge, increase the number of iterations.\n",
            "  \"the number of iterations.\", ConvergenceWarning)\n",
            "/usr/local/lib/python3.7/dist-packages/sklearn/linear_model/_logistic.py:940: ConvergenceWarning: lbfgs failed to converge (status=1):\n",
            "STOP: TOTAL NO. of ITERATIONS REACHED LIMIT.\n",
            "\n",
            "Increase the number of iterations (max_iter) or scale the data as shown in:\n",
            "    https://scikit-learn.org/stable/modules/preprocessing.html\n",
            "Please also refer to the documentation for alternative solver options:\n",
            "    https://scikit-learn.org/stable/modules/linear_model.html#logistic-regression\n",
            "  extra_warning_msg=_LOGISTIC_SOLVER_CONVERGENCE_MSG)\n"
          ],
          "name": "stderr"
        },
        {
          "output_type": "execute_result",
          "data": {
            "text/plain": [
              "{'KNN': 0.6229508196721312,\n",
              " 'LinearSVC': 0.7377049180327869,\n",
              " 'LogisticRegression': 0.8360655737704918,\n",
              " 'RandomForestClassifier': 0.819672131147541,\n",
              " 'SVC': 0.6229508196721312}"
            ]
          },
          "metadata": {
            "tags": []
          },
          "execution_count": 19
        }
      ]
    },
    {
      "cell_type": "markdown",
      "metadata": {
        "id": "bjxjh70KGIyV"
      },
      "source": [
        "* Run the cell above a few times, what do you notice about the results? \n",
        "* Which model performs the best this time?\n",
        "* What happens if you add a NumPy random seed to the cell where you called `train_test_split()` (towards the top of the notebook) and then rerun the cell above?\n",
        "\n",
        "Let's make our results a little more visual."
      ]
    },
    {
      "cell_type": "code",
      "metadata": {
        "id": "oYd5MqbOGIyW",
        "colab": {
          "base_uri": "https://localhost:8080/",
          "height": 390
        },
        "outputId": "614a979a-85b8-4bef-c5a0-99efbdd05592"
      },
      "source": [
        "# Create a pandas dataframe with the data as the values of the results dictionary,\n",
        "# the index as the keys of the results dictionary and a single column called accuracy.\n",
        "# Be sure to save the dataframe to a variable.\n",
        "results_df = pd.DataFrame(results.values(), \n",
        "                          results.keys(), \n",
        "                          columns=[\"Accuracy\"])\n",
        "\n",
        "# Create a bar plot of the results dataframe using plot.bar()\n",
        "results_df.plot(kind = 'bar') "
      ],
      "execution_count": 20,
      "outputs": [
        {
          "output_type": "execute_result",
          "data": {
            "text/plain": [
              "<matplotlib.axes._subplots.AxesSubplot at 0x7fe78790bd90>"
            ]
          },
          "metadata": {
            "tags": []
          },
          "execution_count": 20
        },
        {
          "output_type": "display_data",
          "data": {
            "image/png": "[encoded data removed]",
            "text/plain": [
              "<Figure size 432x288 with 1 Axes>"
            ]
          },
          "metadata": {
            "tags": [],
            "needs_background": "light"
          }
        }
      ]
    },
    {
      "cell_type": "markdown",
      "metadata": {
        "id": "lNlqW7AWGIyW"
      },
      "source": [
        "Using `np.random.seed(42)` results in the `LogisticRegression` model perfoming the best (at least on my computer).\n",
        "\n",
        "Let's tune its hyperparameters and see if we can improve it.\n",
        "\n",
        "### Hyperparameter Tuning\n",
        "\n",
        "Remember, if you're ever trying to tune a machine learning models hyperparameters and you're not sure where to start, you can always search something like \"MODEL_NAME hyperparameter tuning\".\n",
        "\n",
        "In the case of LogisticRegression, you might come across articles, such as [Hyperparameter Tuning Using Grid Search by Chris Albon](https://chrisalbon.com/machine_learning/model_selection/hyperparameter_tuning_using_grid_search/).\n",
        "\n",
        "The article uses [`GridSearchCV`](https://scikit-learn.org/stable/modules/generated/sklearn.model_selection.GridSearchCV.html) but we're going to be using [`RandomizedSearchCV`](https://scikit-learn.org/stable/modules/generated/sklearn.model_selection.RandomizedSearchCV.html).\n",
        "\n",
        "The different hyperparameters to search over have been setup for you in `log_reg_grid` but feel free to change them."
      ]
    },
    {
      "cell_type": "code",
      "metadata": {
        "id": "uBKYsjfWGIyX"
      },
      "source": [
        "# Different LogisticRegression hyperparameters\n",
        "log_reg_grid = {\"C\": np.logspace(-4, 4, 20),\n",
        "                \"solver\": [\"liblinear\"]}"
      ],
      "execution_count": 21,
      "outputs": []
    },
    {
      "cell_type": "markdown",
      "metadata": {
        "id": "s4NKbvvKGIyX"
      },
      "source": [
        "Since we've got a set of hyperparameters we can import `RandomizedSearchCV`, pass it our dictionary of hyperparameters and let it search for the best combination."
      ]
    },
    {
      "cell_type": "code",
      "metadata": {
        "id": "k_lz7r2wGIyX",
        "colab": {
          "base_uri": "https://localhost:8080/"
        },
        "outputId": "9905ac08-a39c-4047-b5c5-cbb686026685"
      },
      "source": [
        "# Setup np random seed of 42\n",
        "np.random.seed(42)\n",
        "\n",
        "# Import RandomizedSearchCV from sklearn's model_selection module\n",
        "from sklearn.model_selection import RandomizedSearchCV\n",
        "\n",
        "# Setup an instance of RandomizedSearchCV with a LogisticRegression() estimator,\n",
        "# our log_reg_grid as the param_distributions, a cv of 5 and n_iter of 5.\n",
        "rs_log_reg = RandomizedSearchCV(estimator=LogisticRegression(),\n",
        "                                param_distributions=log_reg_grid,\n",
        "                                cv=5,\n",
        "                                n_iter=20,\n",
        "                                verbose=True)\n",
        "\n",
        "# Fit the instance of RandomizedSearchCV\n",
        "rs_log_reg.fit(X_train, y_train)"
      ],
      "execution_count": 22,
      "outputs": [
        {
          "output_type": "stream",
          "text": [
            "Fitting 5 folds for each of 20 candidates, totalling 100 fits\n"
          ],
          "name": "stdout"
        },
        {
          "output_type": "stream",
          "text": [
            "[Parallel(n_jobs=1)]: Using backend SequentialBackend with 1 concurrent workers.\n",
            "[Parallel(n_jobs=1)]: Done 100 out of 100 | elapsed:    0.4s finished\n"
          ],
          "name": "stderr"
        },
        {
          "output_type": "execute_result",
          "data": {
            "text/plain": [
              "RandomizedSearchCV(cv=5, error_score=nan,\n",
              "                   estimator=LogisticRegression(C=1.0, class_weight=None,\n",
              "                                                dual=False, fit_intercept=True,\n",
              "                                                intercept_scaling=1,\n",
              "                                                l1_ratio=None, max_iter=100,\n",
              "                                                multi_class='auto', n_jobs=None,\n",
              "                                                penalty='l2', random_state=None,\n",
              "                                                solver='lbfgs', tol=0.0001,\n",
              "                                                verbose=0, warm_start=False),\n",
              "                   iid='deprecated', n_iter=20, n_jobs=None,\n",
              "                   param_distributions={'C':...\n",
              "       4.83293024e-03, 1.27427499e-02, 3.35981829e-02, 8.85866790e-02,\n",
              "       2.33572147e-01, 6.15848211e-01, 1.62377674e+00, 4.28133240e+00,\n",
              "       1.12883789e+01, 2.97635144e+01, 7.84759970e+01, 2.06913808e+02,\n",
              "       5.45559478e+02, 1.43844989e+03, 3.79269019e+03, 1.00000000e+04]),\n",
              "                                        'solver': ['liblinear']},\n",
              "                   pre_dispatch='2*n_jobs', random_state=None, refit=True,\n",
              "                   return_train_score=False, scoring=None, verbose=True)"
            ]
          },
          "metadata": {
            "tags": []
          },
          "execution_count": 22
        }
      ]
    },
    {
      "cell_type": "markdown",
      "metadata": {
        "id": "EXDU9nzYGIyY"
      },
      "source": [
        "Once `RandomizedSearchCV` has finished, we can find the best hyperparmeters it found using the `best_params_` attributes."
      ]
    },
    {
      "cell_type": "code",
      "metadata": {
        "id": "DE4wUoXIGIyY",
        "colab": {
          "base_uri": "https://localhost:8080/"
        },
        "outputId": "be4e065c-539c-4651-b1ea-7bee5959177d"
      },
      "source": [
        "# Find the best parameters of the RandomizedSearchCV instance using the best_params_ attribute\n",
        "rs_log_reg.best_params_"
      ],
      "execution_count": 23,
      "outputs": [
        {
          "output_type": "execute_result",
          "data": {
            "text/plain": [
              "{'C': 0.23357214690901212, 'solver': 'liblinear'}"
            ]
          },
          "metadata": {
            "tags": []
          },
          "execution_count": 23
        }
      ]
    },
    {
      "cell_type": "code",
      "metadata": {
        "id": "0ykx5HRKGIyZ",
        "colab": {
          "base_uri": "https://localhost:8080/"
        },
        "outputId": "ac0f481d-22d8-4ccf-c3b7-d8a8d5f4f298"
      },
      "source": [
        "# Score the instance of RandomizedSearchCV using the test data\n",
        "rs_log_reg.score(X_train, y_train)"
      ],
      "execution_count": 24,
      "outputs": [
        {
          "output_type": "execute_result",
          "data": {
            "text/plain": [
              "0.8471074380165289"
            ]
          },
          "metadata": {
            "tags": []
          },
          "execution_count": 24
        }
      ]
    },
    {
      "cell_type": "markdown",
      "metadata": {
        "id": "axOeOb8dGIya"
      },
      "source": [
        "After hyperparameter tuning, did the models score improve? What else could you try to improve it? Are there any other methods of hyperparameter tuning you can find for `LogisticRegression`?\n",
        "\n",
        "### Classifier Model Evaluation\n",
        "\n",
        "We've tried to find the best hyperparameters on our model using `RandomizedSearchCV` and so far we've only been evaluating our model using the `score()` function which returns accuracy. \n",
        "\n",
        "But when it comes to classification, you'll likely want to use a few more evaluation metrics, including:\n",
        "* [**Confusion matrix**](https://www.dataschool.io/simple-guide-to-confusion-matrix-terminology/) - Compares the predicted values with the true values in a tabular way, if 100% correct, all values in the matrix will be top left to bottom right (diagnol line).\n",
        "* [**Cross-validation**](https://scikit-learn.org/stable/modules/cross_validation.html) - Splits your dataset into multiple parts and train and tests your model on each part and evaluates performance as an average. \n",
        "* [**Precision**](https://scikit-learn.org/stable/modules/generated/sklearn.metrics.precision_score.html#sklearn.metrics.precision_score) - Proportion of true positives over total number of samples. Higher precision leads to less false positives.\n",
        "* [**Recall**](https://scikit-learn.org/stable/modules/generated/sklearn.metrics.recall_score.html#sklearn.metrics.recall_score) - Proportion of true positives over total number of true positives and false positives. Higher recall leads to less false negatives.\n",
        "* [**F1 score**](https://scikit-learn.org/stable/modules/generated/sklearn.metrics.f1_score.html#sklearn.metrics.f1_score) - Combines precision and recall into one metric. 1 is best, 0 is worst.\n",
        "* [**Classification report**](https://scikit-learn.org/stable/modules/generated/sklearn.metrics.classification_report.html) - Sklearn has a built-in function called `classification_report()` which returns some of the main classification metrics such as precision, recall and f1-score.\n",
        "* [**ROC Curve**](https://scikit-learn.org/stable/modules/generated/sklearn.metrics.roc_score.html) - [Receiver Operating Characterisitc](https://en.wikipedia.org/wiki/Receiver_operating_characteristic) is a plot of true positive rate versus false positive rate.\n",
        "* [**Area Under Curve (AUC)**](https://scikit-learn.org/stable/modules/generated/sklearn.metrics.roc_auc_score.html) - The area underneath the ROC curve. A perfect model achieves a score of 1.0.\n",
        "\n",
        "Before we get to these, we'll instantiate a new instance of our model using the best hyerparameters found by `RandomizedSearchCV`. "
      ]
    },
    {
      "cell_type": "code",
      "metadata": {
        "id": "Ry029KeYGIya",
        "colab": {
          "base_uri": "https://localhost:8080/"
        },
        "outputId": "4886665b-e9a3-432b-8342-4e1606665f34"
      },
      "source": [
        "# Instantiate a LogisticRegression classifier using the best hyperparameters from RandomizedSearchCV\n",
        "clf = LogisticRegression(max_iter = 1000)\n",
        "\n",
        "# Fit the new instance of LogisticRegression with the best hyperparameters on the training data \n",
        "clf.fit(X_train, y_train)"
      ],
      "execution_count": 25,
      "outputs": [
        {
          "output_type": "execute_result",
          "data": {
            "text/plain": [
              "LogisticRegression(C=1.0, class_weight=None, dual=False, fit_intercept=True,\n",
              "                   intercept_scaling=1, l1_ratio=None, max_iter=1000,\n",
              "                   multi_class='auto', n_jobs=None, penalty='l2',\n",
              "                   random_state=None, solver='lbfgs', tol=0.0001, verbose=0,\n",
              "                   warm_start=False)"
            ]
          },
          "metadata": {
            "tags": []
          },
          "execution_count": 25
        }
      ]
    },
    {
      "cell_type": "markdown",
      "metadata": {
        "id": "MaClpQUVGIyb"
      },
      "source": [
        "Now it's to import the relative Scikit-Learn methods for each of the classification evaluation metrics we're after."
      ]
    },
    {
      "cell_type": "code",
      "metadata": {
        "id": "DwI55roVGIyc"
      },
      "source": [
        "# Import confusion_matrix and classification_report from sklearn's metrics module\n",
        "from sklearn.metrics import confusion_matrix, classification_report, precision_score, recall_score, f1_score, plot_roc_curve\n",
        "\n",
        "# Import precision_score, recall_score and f1_score from sklearn's metrics module\n",
        "###\n",
        "\n",
        "# Import plot_roc_curve from sklearn's metrics module\n",
        "###"
      ],
      "execution_count": 26,
      "outputs": []
    },
    {
      "cell_type": "markdown",
      "metadata": {
        "id": "y8WQJLa2GIyc"
      },
      "source": [
        "Evaluation metrics are very often comparing a model's predictions to some ground truth labels.\n",
        "\n",
        "Let's make some predictions on the test data using our latest model and save them to `y_preds`."
      ]
    },
    {
      "cell_type": "code",
      "metadata": {
        "id": "TAK7IQ22GIyc"
      },
      "source": [
        "# Make predictions on test data and save them\n",
        "y_preds = clf.predict(X_test)"
      ],
      "execution_count": 27,
      "outputs": []
    },
    {
      "cell_type": "markdown",
      "metadata": {
        "id": "bcyHYTDbGIyd"
      },
      "source": [
        "Time to use the predictions our model has made to evaluate it beyond accuracy."
      ]
    },
    {
      "cell_type": "code",
      "metadata": {
        "id": "NZzsZ5MwGIyd"
      },
      "source": [
        "# Create a confusion matrix using the confusion_matrix function\n",
        "cf = confusion_matrix(y_test, y_preds)"
      ],
      "execution_count": 28,
      "outputs": []
    },
    {
      "cell_type": "markdown",
      "metadata": {
        "id": "DdHCzpm1GIyd"
      },
      "source": [
        "**Challenge:** The in-built `confusion_matrix` function in Scikit-Learn produces something not too visual, how could you make your confusion matrix more visual?\n",
        "\n",
        "You might want to search something like \"how to plot a confusion matrix\". Note: There may be more than one way to do this."
      ]
    },
    {
      "cell_type": "code",
      "metadata": {
        "id": "ipHFxz6QGIye",
        "colab": {
          "base_uri": "https://localhost:8080/",
          "height": 282
        },
        "outputId": "0d45087a-e055-488c-f926-6f69d45327b6"
      },
      "source": [
        "# Create a more visual confusion matrix\n",
        "import seaborn as sns\n",
        "sns.heatmap(cf, annot = True)"
      ],
      "execution_count": 29,
      "outputs": [
        {
          "output_type": "execute_result",
          "data": {
            "text/plain": [
              "<matplotlib.axes._subplots.AxesSubplot at 0x7fe7877ea890>"
            ]
          },
          "metadata": {
            "tags": []
          },
          "execution_count": 29
        },
        {
          "output_type": "display_data",
          "data": {
            "image/png": "[encoded data removed]",
            "text/plain": [
              "<Figure size 432x288 with 2 Axes>"
            ]
          },
          "metadata": {
            "tags": [],
            "needs_background": "light"
          }
        }
      ]
    },
    {
      "cell_type": "code",
      "metadata": {
        "id": "1xt6MuPZKOd2",
        "colab": {
          "base_uri": "https://localhost:8080/",
          "height": 296
        },
        "outputId": "a8cbc7fe-3d55-4782-cb71-8f6c3e68cb4a"
      },
      "source": [
        "from sklearn.metrics import plot_confusion_matrix\n",
        "\n",
        "plot_confusion_matrix(clf, X_test, y_test)"
      ],
      "execution_count": 30,
      "outputs": [
        {
          "output_type": "execute_result",
          "data": {
            "text/plain": [
              "<sklearn.metrics._plot.confusion_matrix.ConfusionMatrixDisplay at 0x7fe786abfd10>"
            ]
          },
          "metadata": {
            "tags": []
          },
          "execution_count": 30
        },
        {
          "output_type": "display_data",
          "data": {
            "image/png": "[encoded data removed]",
            "text/plain": [
              "<Figure size 432x288 with 2 Axes>"
            ]
          },
          "metadata": {
            "tags": [],
            "needs_background": "light"
          }
        }
      ]
    },
    {
      "cell_type": "markdown",
      "metadata": {
        "id": "G6Sh8faUGIye"
      },
      "source": [
        "How about a classification report?"
      ]
    },
    {
      "cell_type": "code",
      "metadata": {
        "id": "6yrsqnTIGIye",
        "colab": {
          "base_uri": "https://localhost:8080/",
          "height": 69
        },
        "outputId": "916ec371-fd32-462a-da05-d568176ced74"
      },
      "source": [
        "# Create a classification report using the classification_report function\n",
        "classification_report(y_test, y_preds)"
      ],
      "execution_count": 32,
      "outputs": [
        {
          "output_type": "execute_result",
          "data": {
            "application/vnd.google.colaboratory.intrinsic+json": {
              "type": "string"
            },
            "text/plain": [
              "'              precision    recall  f1-score   support\\n\\n           0       0.92      0.73      0.81        33\\n           1       0.74      0.93      0.83        28\\n\\n    accuracy                           0.82        61\\n   macro avg       0.83      0.83      0.82        61\\nweighted avg       0.84      0.82      0.82        61\\n'"
            ]
          },
          "metadata": {
            "tags": []
          },
          "execution_count": 32
        }
      ]
    },
    {
      "cell_type": "markdown",
      "metadata": {
        "id": "oNM2Q63hGIye"
      },
      "source": [
        "**Challenge:** Write down what each of the columns in this classification report are.\n",
        "\n",
        "* **Precision** - Indicates the proportion of positive identifications (model predicted class 1) which were actually correct. A model which produces no false positives has a precision of 1.0.\n",
        "* **Recall** - Indicates the proportion of actual positives which were correctly classified. A model which produces no false negatives has a recall of 1.0.\n",
        "* **F1 score** - A combination of precision and recall. A perfect model achieves an F1 score of 1.0.\n",
        "* **Support** - The number of samples each metric was calculated on.\n",
        "* **Accuracy** - The accuracy of the model in decimal form. Perfect accuracy is equal to 1.0.\n",
        "* **Macro avg** - Short for macro average, the average precision, recall and F1 score between classes. Macro avg doesn’t class imbalance into effort, so if you do have class imbalances, pay attention to this metric.\n",
        "* **Weighted avg** - Short for weighted average, the weighted average precision, recall and F1 score between classes. Weighted means each metric is calculated with respect to how many samples there are in each class. This metric will favour the majority class (e.g. will give a high value when one class out performs another due to having more samples).\n",
        "\n",
        "The classification report gives us a range of values for precision, recall and F1 score, time to find these metrics using Scikit-Learn functions."
      ]
    },
    {
      "cell_type": "code",
      "metadata": {
        "id": "bGIXgtVjGIyf",
        "colab": {
          "base_uri": "https://localhost:8080/"
        },
        "outputId": "dab4cc3f-0d0d-4ecc-b330-09679f93e5bb"
      },
      "source": [
        "# Find the precision score of the model using precision_score()\n",
        "precision_score(y_test, y_preds)"
      ],
      "execution_count": 33,
      "outputs": [
        {
          "output_type": "execute_result",
          "data": {
            "text/plain": [
              "0.7428571428571429"
            ]
          },
          "metadata": {
            "tags": []
          },
          "execution_count": 33
        }
      ]
    },
    {
      "cell_type": "code",
      "metadata": {
        "id": "WH-FJO2zGIyf",
        "colab": {
          "base_uri": "https://localhost:8080/"
        },
        "outputId": "8725abc6-7b57-43bc-c985-cf35ae353a9f"
      },
      "source": [
        "# Find the recall score\n",
        "recall_score(y_test, y_preds)"
      ],
      "execution_count": 34,
      "outputs": [
        {
          "output_type": "execute_result",
          "data": {
            "text/plain": [
              "0.9285714285714286"
            ]
          },
          "metadata": {
            "tags": []
          },
          "execution_count": 34
        }
      ]
    },
    {
      "cell_type": "code",
      "metadata": {
        "id": "cYH51DpgGIyf",
        "colab": {
          "base_uri": "https://localhost:8080/"
        },
        "outputId": "5bdfc37d-2418-4ccb-9f57-7ccd5d4ca29a"
      },
      "source": [
        "# Find the F1 score\n",
        "f1_score(y_test, y_preds)"
      ],
      "execution_count": 35,
      "outputs": [
        {
          "output_type": "execute_result",
          "data": {
            "text/plain": [
              "0.8253968253968255"
            ]
          },
          "metadata": {
            "tags": []
          },
          "execution_count": 35
        }
      ]
    },
    {
      "cell_type": "markdown",
      "metadata": {
        "id": "2466aVKAGIyg"
      },
      "source": [
        "Confusion matrix: done.  \n",
        "Classification report: done.  \n",
        "ROC (receiver operator characteristic) curve & AUC (area under curve) score: not done.\n",
        "\n",
        "Let's fix this.\n",
        "\n",
        "If you're unfamiliar with what a ROC curve, that's your first challenge, to read up on what one is.\n",
        "\n",
        "In a sentence, a [ROC curve](https://en.wikipedia.org/wiki/Receiver_operating_characteristic) is a plot of the true positive rate versus the false positive rate.\n",
        "\n",
        "And the AUC score is the area behind the ROC curve.\n",
        "\n",
        "Scikit-Learn provides a handy function for creating both of these called [`plot_roc_curve()`](https://scikit-learn.org/stable/modules/generated/sklearn.metrics.plot_roc_curve.html)."
      ]
    },
    {
      "cell_type": "code",
      "metadata": {
        "id": "Xw863-ISGIyg",
        "colab": {
          "base_uri": "https://localhost:8080/",
          "height": 296
        },
        "outputId": "10b6d60c-431b-426f-fd16-33217907d886"
      },
      "source": [
        "# Plot a ROC curve using our current machine learning model using plot_roc_curve\n",
        "plot_roc_curve(clf, X_test, y_test)\n",
        "plt.plot([0,1], [0,1], linestyle = '--', color = 'red')"
      ],
      "execution_count": 36,
      "outputs": [
        {
          "output_type": "execute_result",
          "data": {
            "text/plain": [
              "[<matplotlib.lines.Line2D at 0x7fe77998cf50>]"
            ]
          },
          "metadata": {
            "tags": []
          },
          "execution_count": 36
        },
        {
          "output_type": "display_data",
          "data": {
            "image/png": "[encoded data removed]",
            "text/plain": [
              "<Figure size 432x288 with 1 Axes>"
            ]
          },
          "metadata": {
            "tags": [],
            "needs_background": "light"
          }
        }
      ]
    },
    {
      "cell_type": "markdown",
      "metadata": {
        "id": "y_Y6H3ZfGIyg"
      },
      "source": [
        "Beautiful! We've gone far beyond accuracy with a plethora extra classification evaluation metrics.\n",
        "\n",
        "If you're not sure about any of these, don't worry, they can take a while to understand. That could be an optional extension, reading up on a classification metric you're not sure of.\n",
        "\n",
        "The thing to note here is all of these metrics have been calculated using a single training set and a single test set. Whilst this is okay, a more robust way is to calculate them using [cross-validation](https://scikit-learn.org/stable/modules/cross_validation.html).\n",
        "\n",
        "We can calculate various evaluation metrics using cross-validation using Scikit-Learn's [`cross_val_score()`](https://scikit-learn.org/stable/modules/generated/sklearn.model_selection.cross_val_score.html) function along with the `scoring` parameter."
      ]
    },
    {
      "cell_type": "code",
      "metadata": {
        "id": "_4z_2OMrGIyg"
      },
      "source": [
        "# Import cross_val_score from sklearn's model_selection module\n",
        "from sklearn.model_selection import cross_val_score"
      ],
      "execution_count": 37,
      "outputs": []
    },
    {
      "cell_type": "code",
      "metadata": {
        "id": "AGOWYm7CGIyh",
        "colab": {
          "base_uri": "https://localhost:8080/"
        },
        "outputId": "c9ad80ff-8976-42e9-8787-0aeb31b7feec"
      },
      "source": [
        "# EXAMPLE: By default cross_val_score returns 5 values (cv=5).\n",
        "cross_val_score(clf, \n",
        "                X, \n",
        "                y, \n",
        "                scoring=\"accuracy\",\n",
        "                cv=5)"
      ],
      "execution_count": 38,
      "outputs": [
        {
          "output_type": "execute_result",
          "data": {
            "text/plain": [
              "array([0.80327869, 0.86885246, 0.85245902, 0.86666667, 0.75      ])"
            ]
          },
          "metadata": {
            "tags": []
          },
          "execution_count": 38
        }
      ]
    },
    {
      "cell_type": "code",
      "metadata": {
        "id": "CWaIHPLKGIyh",
        "colab": {
          "base_uri": "https://localhost:8080/"
        },
        "outputId": "7ceabada-0901-4cd8-fe58-9ac65aede29c"
      },
      "source": [
        "# EXAMPLE: Taking the mean of the returned values from cross_val_score \n",
        "# gives a cross-validated version of the scoring metric.\n",
        "cross_val_acc = np.mean(cross_val_score(clf,\n",
        "                                        X,\n",
        "                                        y,\n",
        "                                        scoring=\"accuracy\",\n",
        "                                        cv=5))\n",
        "\n",
        "cross_val_acc"
      ],
      "execution_count": 39,
      "outputs": [
        {
          "output_type": "execute_result",
          "data": {
            "text/plain": [
              "0.8282513661202187"
            ]
          },
          "metadata": {
            "tags": []
          },
          "execution_count": 39
        }
      ]
    },
    {
      "cell_type": "markdown",
      "metadata": {
        "id": "u8RibfVgGIyh"
      },
      "source": [
        "In the examples, the cross-validated accuracy is found by taking the mean of the array returned by `cross_val_score()`.\n",
        "\n",
        "Now it's time to find the same for precision, recall and F1 score."
      ]
    },
    {
      "cell_type": "code",
      "metadata": {
        "id": "Tz_Pl3TSGIyj",
        "colab": {
          "base_uri": "https://localhost:8080/"
        },
        "outputId": "c36e496f-7e85-4a48-c69e-704778f9c728"
      },
      "source": [
        "# Find the cross-validated precision\n",
        "cvs = cross_val_score(clf,\n",
        "                X,\n",
        "                y,\n",
        "                scoring=\"precision\",\n",
        "                cv=5)\n",
        "\n",
        "cvs, np.mean(cvs)"
      ],
      "execution_count": 40,
      "outputs": [
        {
          "output_type": "execute_result",
          "data": {
            "text/plain": [
              "(array([0.78378378, 0.87878788, 0.85294118, 0.83783784, 0.725     ]),\n",
              " 0.8156701353760176)"
            ]
          },
          "metadata": {
            "tags": []
          },
          "execution_count": 40
        }
      ]
    },
    {
      "cell_type": "code",
      "metadata": {
        "id": "q3a_s4SCGIyj",
        "colab": {
          "base_uri": "https://localhost:8080/"
        },
        "outputId": "2bef4540-25f4-4172-af37-90f8aa932f0f"
      },
      "source": [
        "# Find the cross-validated recall\n",
        "cvs = cross_val_score(clf,\n",
        "                X,\n",
        "                y,\n",
        "                scoring=\"recall\",\n",
        "                cv=5)\n",
        "\n",
        "cvs, np.mean(cvs)"
      ],
      "execution_count": 41,
      "outputs": [
        {
          "output_type": "execute_result",
          "data": {
            "text/plain": [
              "(array([0.87878788, 0.87878788, 0.87878788, 0.93939394, 0.87878788]),\n",
              " 0.8909090909090909)"
            ]
          },
          "metadata": {
            "tags": []
          },
          "execution_count": 41
        }
      ]
    },
    {
      "cell_type": "code",
      "metadata": {
        "id": "J5zHJBgGGIyj",
        "colab": {
          "base_uri": "https://localhost:8080/"
        },
        "outputId": "7f6ab74a-de0b-497c-cb0f-e6c584075cda"
      },
      "source": [
        "# Find the cross-validated F1 score\n",
        "# Find the cross-validated precision\n",
        "cvs = cross_val_score(clf,\n",
        "                X,\n",
        "                y,\n",
        "                scoring=\"f1\",\n",
        "                cv=5)\n",
        "\n",
        "cvs, np.mean(cvs)"
      ],
      "execution_count": 42,
      "outputs": [
        {
          "output_type": "execute_result",
          "data": {
            "text/plain": [
              "(array([0.82857143, 0.87878788, 0.86567164, 0.88571429, 0.79452055]),\n",
              " 0.8506531565619685)"
            ]
          },
          "metadata": {
            "tags": []
          },
          "execution_count": 42
        }
      ]
    },
    {
      "cell_type": "markdown",
      "metadata": {
        "id": "4FMiqydGGIyk"
      },
      "source": [
        "### Exporting and importing a trained model\n",
        "\n",
        "Once you've trained a model, you may want to export it and save it to file so you can share it or use it elsewhere.\n",
        "\n",
        "One method of exporting and importing models is using the joblib library.\n",
        "\n",
        "In Scikit-Learn, exporting and importing a trained model is known as [model persistence](https://scikit-learn.org/stable/modules/model_persistence.html)."
      ]
    },
    {
      "cell_type": "code",
      "metadata": {
        "id": "oU3qFBZ0GIyk"
      },
      "source": [
        "# Import the dump and load functions from the joblib library\n",
        "from joblib import dump, load"
      ],
      "execution_count": 43,
      "outputs": []
    },
    {
      "cell_type": "code",
      "metadata": {
        "colab": {
          "base_uri": "https://localhost:8080/"
        },
        "id": "DZnGBDNHDETc",
        "outputId": "ee99b7a5-d0eb-45f1-c09c-2500b5bd3026"
      },
      "source": [
        "from google.colab import drive\n",
        "drive.mount('/content/gdrive')"
      ],
      "execution_count": 4,
      "outputs": [
        {
          "output_type": "stream",
          "text": [
            "Mounted at /content/gdrive\n"
          ],
          "name": "stdout"
        }
      ]
    },
    {
      "cell_type": "code",
      "metadata": {
        "id": "73gI6BWAGIyn",
        "colab": {
          "base_uri": "https://localhost:8080/"
        },
        "outputId": "e1a20575-c5ed-41a1-b432-35f4ebca441f"
      },
      "source": [
        "# Use the dump function to export the trained model to file\n",
        "dump(clf, \"sample_model.joblib\")"
      ],
      "execution_count": 44,
      "outputs": [
        {
          "output_type": "execute_result",
          "data": {
            "text/plain": [
              "['sample_model.joblib']"
            ]
          },
          "metadata": {
            "tags": []
          },
          "execution_count": 44
        }
      ]
    },
    {
      "cell_type": "code",
      "metadata": {
        "id": "SYf5opthGIyn",
        "colab": {
          "base_uri": "https://localhost:8080/"
        },
        "outputId": "0f0321e1-d0d2-4dbc-fc90-5bed84cf42ee"
      },
      "source": [
        "# Use the load function to import the trained model you just exported\n",
        "# Save it to a different variable name to the origial trained model\n",
        "clf2 = load('sample_model.joblib')\n",
        "# Evaluate the loaded trained model on the test data\n",
        "clf2.score(X_test, y_test)"
      ],
      "execution_count": 45,
      "outputs": [
        {
          "output_type": "execute_result",
          "data": {
            "text/plain": [
              "0.819672131147541"
            ]
          },
          "metadata": {
            "tags": []
          },
          "execution_count": 45
        }
      ]
    },
    {
      "cell_type": "markdown",
      "metadata": {
        "id": "HRebPL88GIyn"
      },
      "source": [
        "What do you notice about the loaded trained model results versus the original (pre-exported) model results?\n",
        "\n",
        "\n",
        "## Scikit-Learn Regression Practice\n",
        "\n",
        "For the next few exercises, we're going to be working on a regression problem, in other words, using some data to predict a number.\n",
        "\n",
        "Our dataset is a [table of car sales](https://docs.google.com/spreadsheets/d/1LPEIWJdSSJYrfn-P3UQDIXbEn5gg-o6I7ExLrWTTBWs/edit?usp=sharing), containing different car characteristics as well as a sale price.\n",
        "\n",
        "We'll use Scikit-Learn's built-in regression machine learning models to try and learn the patterns in the car characteristics and their prices on a certain group of the dataset before trying to predict the sale price of a group of cars the model has never seen before.\n",
        "\n",
        "To begin, we'll [import the data from GitHub](https://raw.githubusercontent.com/mrdbourke/zero-to-mastery-ml/master/data/car-sales-extended-missing-data.csv) into a pandas DataFrame, check out some details about it and try to build a model as soon as possible."
      ]
    },
    {
      "cell_type": "code",
      "metadata": {
        "id": "v-57GPkCGIyo",
        "colab": {
          "base_uri": "https://localhost:8080/",
          "height": 204
        },
        "outputId": "12434528-531d-4a61-b3e6-0b56e13325e5"
      },
      "source": [
        "# Read in the car sales data\n",
        "car_sales = pd.read_csv(\"https://raw.githubusercontent.com/mrdbourke/zero-to-mastery-ml/master/data/car-sales-extended-missing-data.csv\")\n",
        "\n",
        "# View the first 5 rows of the car sales data\n",
        "car_sales.head()"
      ],
      "execution_count": 46,
      "outputs": [
        {
          "output_type": "execute_result",
          "data": {
            "text/html": [
              "<div>\n",
              "<style scoped>\n",
              "    .dataframe tbody tr th:only-of-type {\n",
              "        vertical-align: middle;\n",
              "    }\n",
              "\n",
              "    .dataframe tbody tr th {\n",
              "        vertical-align: top;\n",
              "    }\n",
              "\n",
              "    .dataframe thead th {\n",
              "        text-align: right;\n",
              "    }\n",
              "</style>\n",
              "<table border=\"1\" class=\"dataframe\">\n",
              "  <thead>\n",
              "    <tr style=\"text-align: right;\">\n",
              "      <th></th>\n",
              "      <th>Make</th>\n",
              "      <th>Colour</th>\n",
              "      <th>Odometer (KM)</th>\n",
              "      <th>Doors</th>\n",
              "      <th>Price</th>\n",
              "    </tr>\n",
              "  </thead>\n",
              "  <tbody>\n",
              "    <tr>\n",
              "      <th>0</th>\n",
              "      <td>Honda</td>\n",
              "      <td>White</td>\n",
              "      <td>35431.0</td>\n",
              "      <td>4.0</td>\n",
              "      <td>15323.0</td>\n",
              "    </tr>\n",
              "    <tr>\n",
              "      <th>1</th>\n",
              "      <td>BMW</td>\n",
              "      <td>Blue</td>\n",
              "      <td>192714.0</td>\n",
              "      <td>5.0</td>\n",
              "      <td>19943.0</td>\n",
              "    </tr>\n",
              "    <tr>\n",
              "      <th>2</th>\n",
              "      <td>Honda</td>\n",
              "      <td>White</td>\n",
              "      <td>84714.0</td>\n",
              "      <td>4.0</td>\n",
              "      <td>28343.0</td>\n",
              "    </tr>\n",
              "    <tr>\n",
              "      <th>3</th>\n",
              "      <td>Toyota</td>\n",
              "      <td>White</td>\n",
              "      <td>154365.0</td>\n",
              "      <td>4.0</td>\n",
              "      <td>13434.0</td>\n",
              "    </tr>\n",
              "    <tr>\n",
              "      <th>4</th>\n",
              "      <td>Nissan</td>\n",
              "      <td>Blue</td>\n",
              "      <td>181577.0</td>\n",
              "      <td>3.0</td>\n",
              "      <td>14043.0</td>\n",
              "    </tr>\n",
              "  </tbody>\n",
              "</table>\n",
              "</div>"
            ],
            "text/plain": [
              "     Make Colour  Odometer (KM)  Doors    Price\n",
              "0   Honda  White        35431.0    4.0  15323.0\n",
              "1     BMW   Blue       192714.0    5.0  19943.0\n",
              "2   Honda  White        84714.0    4.0  28343.0\n",
              "3  Toyota  White       154365.0    4.0  13434.0\n",
              "4  Nissan   Blue       181577.0    3.0  14043.0"
            ]
          },
          "metadata": {
            "tags": []
          },
          "execution_count": 46
        }
      ]
    },
    {
      "cell_type": "code",
      "metadata": {
        "id": "vJKeo1QhGIyo",
        "colab": {
          "base_uri": "https://localhost:8080/"
        },
        "outputId": "d9c32af8-c874-4f28-8879-f8ad1916eb8b"
      },
      "source": [
        "# Get information about the car sales DataFrame\n",
        "car_sales.info()"
      ],
      "execution_count": 47,
      "outputs": [
        {
          "output_type": "stream",
          "text": [
            "<class 'pandas.core.frame.DataFrame'>\n",
            "RangeIndex: 1000 entries, 0 to 999\n",
            "Data columns (total 5 columns):\n",
            " #   Column         Non-Null Count  Dtype  \n",
            "---  ------         --------------  -----  \n",
            " 0   Make           951 non-null    object \n",
            " 1   Colour         950 non-null    object \n",
            " 2   Odometer (KM)  950 non-null    float64\n",
            " 3   Doors          950 non-null    float64\n",
            " 4   Price          950 non-null    float64\n",
            "dtypes: float64(3), object(2)\n",
            "memory usage: 39.2+ KB\n"
          ],
          "name": "stdout"
        }
      ]
    },
    {
      "cell_type": "markdown",
      "metadata": {
        "id": "qonkzOnkGIyp"
      },
      "source": [
        "Looking at the output of `info()`,\n",
        "* How many rows are there total?\n",
        "* What datatypes are in each column?\n",
        "* How many missing values are there in each column?"
      ]
    },
    {
      "cell_type": "code",
      "metadata": {
        "id": "GqmEGAilGIyp",
        "colab": {
          "base_uri": "https://localhost:8080/"
        },
        "outputId": "925a2373-1fd4-4f19-b763-12aea6a96138"
      },
      "source": [
        "# Find number of missing values in each column\n",
        "car_sales.isna().sum()"
      ],
      "execution_count": 51,
      "outputs": [
        {
          "output_type": "execute_result",
          "data": {
            "text/plain": [
              "Make             49\n",
              "Colour           50\n",
              "Odometer (KM)    50\n",
              "Doors            50\n",
              "Price            50\n",
              "dtype: int64"
            ]
          },
          "metadata": {
            "tags": []
          },
          "execution_count": 51
        }
      ]
    },
    {
      "cell_type": "code",
      "metadata": {
        "id": "CkgPN6c-GIyp",
        "colab": {
          "base_uri": "https://localhost:8080/"
        },
        "outputId": "9ba9fb10-934f-4b05-e826-b736136d17bd"
      },
      "source": [
        "# Find the datatypes of each column of car_sales\n",
        "car_sales.dtypes"
      ],
      "execution_count": 52,
      "outputs": [
        {
          "output_type": "execute_result",
          "data": {
            "text/plain": [
              "Make              object\n",
              "Colour            object\n",
              "Odometer (KM)    float64\n",
              "Doors            float64\n",
              "Price            float64\n",
              "dtype: object"
            ]
          },
          "metadata": {
            "tags": []
          },
          "execution_count": 52
        }
      ]
    },
    {
      "cell_type": "markdown",
      "metadata": {
        "id": "q40KHLl8GIyq"
      },
      "source": [
        "Knowing this information, what would happen if we tried to model our data as it is?\n",
        "\n",
        "Let's see."
      ]
    },
    {
      "cell_type": "code",
      "metadata": {
        "id": "_yMJ4No2GIyr",
        "colab": {
          "base_uri": "https://localhost:8080/",
          "height": 340
        },
        "outputId": "ad2aff50-16a4-4bdb-efef-594ee58d99f6"
      },
      "source": [
        "# EXAMPLE: This doesn't work because our car_sales data isn't all numerical\n",
        "from sklearn.ensemble import RandomForestRegressor\n",
        "car_sales_X, car_sales_y = car_sales.drop(\"Price\", axis=1), car_sales.Price\n",
        "rf_regressor = RandomForestRegressor().fit(car_sales_X, car_sales_y)"
      ],
      "execution_count": 53,
      "outputs": [
        {
          "output_type": "error",
          "ename": "ValueError",
          "evalue": "ignored",
          "traceback": [
            "\u001b[0;31m---------------------------------------------------------------------------\u001b[0m",
            "\u001b[0;31mValueError\u001b[0m                                Traceback (most recent call last)",
            "\u001b[0;32m<ipython-input-53-476d8071e1b5>\u001b[0m in \u001b[0;36m<module>\u001b[0;34m()\u001b[0m\n\u001b[1;32m      2\u001b[0m \u001b[0;32mfrom\u001b[0m \u001b[0msklearn\u001b[0m\u001b[0;34m.\u001b[0m\u001b[0mensemble\u001b[0m \u001b[0;32mimport\u001b[0m \u001b[0mRandomForestRegressor\u001b[0m\u001b[0;34m\u001b[0m\u001b[0;34m\u001b[0m\u001b[0m\n\u001b[1;32m      3\u001b[0m \u001b[0mcar_sales_X\u001b[0m\u001b[0;34m,\u001b[0m \u001b[0mcar_sales_y\u001b[0m \u001b[0;34m=\u001b[0m \u001b[0mcar_sales\u001b[0m\u001b[0;34m.\u001b[0m\u001b[0mdrop\u001b[0m\u001b[0;34m(\u001b[0m\u001b[0;34m\"Price\"\u001b[0m\u001b[0;34m,\u001b[0m \u001b[0maxis\u001b[0m\u001b[0;34m=\u001b[0m\u001b[0;36m1\u001b[0m\u001b[0;34m)\u001b[0m\u001b[0;34m,\u001b[0m \u001b[0mcar_sales\u001b[0m\u001b[0;34m.\u001b[0m\u001b[0mPrice\u001b[0m\u001b[0;34m\u001b[0m\u001b[0;34m\u001b[0m\u001b[0m\n\u001b[0;32m----> 4\u001b[0;31m \u001b[0mrf_regressor\u001b[0m \u001b[0;34m=\u001b[0m \u001b[0mRandomForestRegressor\u001b[0m\u001b[0;34m(\u001b[0m\u001b[0;34m)\u001b[0m\u001b[0;34m.\u001b[0m\u001b[0mfit\u001b[0m\u001b[0;34m(\u001b[0m\u001b[0mcar_sales_X\u001b[0m\u001b[0;34m,\u001b[0m \u001b[0mcar_sales_y\u001b[0m\u001b[0;34m)\u001b[0m\u001b[0;34m\u001b[0m\u001b[0;34m\u001b[0m\u001b[0m\n\u001b[0m",
            "\u001b[0;32m/usr/local/lib/python3.7/dist-packages/sklearn/ensemble/_forest.py\u001b[0m in \u001b[0;36mfit\u001b[0;34m(self, X, y, sample_weight)\u001b[0m\n\u001b[1;32m    293\u001b[0m         \"\"\"\n\u001b[1;32m    294\u001b[0m         \u001b[0;31m# Validate or convert input data\u001b[0m\u001b[0;34m\u001b[0m\u001b[0;34m\u001b[0m\u001b[0;34m\u001b[0m\u001b[0m\n\u001b[0;32m--> 295\u001b[0;31m         \u001b[0mX\u001b[0m \u001b[0;34m=\u001b[0m \u001b[0mcheck_array\u001b[0m\u001b[0;34m(\u001b[0m\u001b[0mX\u001b[0m\u001b[0;34m,\u001b[0m \u001b[0maccept_sparse\u001b[0m\u001b[0;34m=\u001b[0m\u001b[0;34m\"csc\"\u001b[0m\u001b[0;34m,\u001b[0m \u001b[0mdtype\u001b[0m\u001b[0;34m=\u001b[0m\u001b[0mDTYPE\u001b[0m\u001b[0;34m)\u001b[0m\u001b[0;34m\u001b[0m\u001b[0;34m\u001b[0m\u001b[0m\n\u001b[0m\u001b[1;32m    296\u001b[0m         \u001b[0my\u001b[0m \u001b[0;34m=\u001b[0m \u001b[0mcheck_array\u001b[0m\u001b[0;34m(\u001b[0m\u001b[0my\u001b[0m\u001b[0;34m,\u001b[0m \u001b[0maccept_sparse\u001b[0m\u001b[0;34m=\u001b[0m\u001b[0;34m'csc'\u001b[0m\u001b[0;34m,\u001b[0m \u001b[0mensure_2d\u001b[0m\u001b[0;34m=\u001b[0m\u001b[0;32mFalse\u001b[0m\u001b[0;34m,\u001b[0m \u001b[0mdtype\u001b[0m\u001b[0;34m=\u001b[0m\u001b[0;32mNone\u001b[0m\u001b[0;34m)\u001b[0m\u001b[0;34m\u001b[0m\u001b[0;34m\u001b[0m\u001b[0m\n\u001b[1;32m    297\u001b[0m         \u001b[0;32mif\u001b[0m \u001b[0msample_weight\u001b[0m \u001b[0;32mis\u001b[0m \u001b[0;32mnot\u001b[0m \u001b[0;32mNone\u001b[0m\u001b[0;34m:\u001b[0m\u001b[0;34m\u001b[0m\u001b[0;34m\u001b[0m\u001b[0m\n",
            "\u001b[0;32m/usr/local/lib/python3.7/dist-packages/sklearn/utils/validation.py\u001b[0m in \u001b[0;36mcheck_array\u001b[0;34m(array, accept_sparse, accept_large_sparse, dtype, order, copy, force_all_finite, ensure_2d, allow_nd, ensure_min_samples, ensure_min_features, warn_on_dtype, estimator)\u001b[0m\n\u001b[1;32m    529\u001b[0m                     \u001b[0marray\u001b[0m \u001b[0;34m=\u001b[0m \u001b[0marray\u001b[0m\u001b[0;34m.\u001b[0m\u001b[0mastype\u001b[0m\u001b[0;34m(\u001b[0m\u001b[0mdtype\u001b[0m\u001b[0;34m,\u001b[0m \u001b[0mcasting\u001b[0m\u001b[0;34m=\u001b[0m\u001b[0;34m\"unsafe\"\u001b[0m\u001b[0;34m,\u001b[0m \u001b[0mcopy\u001b[0m\u001b[0;34m=\u001b[0m\u001b[0;32mFalse\u001b[0m\u001b[0;34m)\u001b[0m\u001b[0;34m\u001b[0m\u001b[0;34m\u001b[0m\u001b[0m\n\u001b[1;32m    530\u001b[0m                 \u001b[0;32melse\u001b[0m\u001b[0;34m:\u001b[0m\u001b[0;34m\u001b[0m\u001b[0;34m\u001b[0m\u001b[0m\n\u001b[0;32m--> 531\u001b[0;31m                     \u001b[0marray\u001b[0m \u001b[0;34m=\u001b[0m \u001b[0mnp\u001b[0m\u001b[0;34m.\u001b[0m\u001b[0masarray\u001b[0m\u001b[0;34m(\u001b[0m\u001b[0marray\u001b[0m\u001b[0;34m,\u001b[0m \u001b[0morder\u001b[0m\u001b[0;34m=\u001b[0m\u001b[0morder\u001b[0m\u001b[0;34m,\u001b[0m \u001b[0mdtype\u001b[0m\u001b[0;34m=\u001b[0m\u001b[0mdtype\u001b[0m\u001b[0;34m)\u001b[0m\u001b[0;34m\u001b[0m\u001b[0;34m\u001b[0m\u001b[0m\n\u001b[0m\u001b[1;32m    532\u001b[0m             \u001b[0;32mexcept\u001b[0m \u001b[0mComplexWarning\u001b[0m\u001b[0;34m:\u001b[0m\u001b[0;34m\u001b[0m\u001b[0;34m\u001b[0m\u001b[0m\n\u001b[1;32m    533\u001b[0m                 raise ValueError(\"Complex data not supported\\n\"\n",
            "\u001b[0;32m/usr/local/lib/python3.7/dist-packages/numpy/core/_asarray.py\u001b[0m in \u001b[0;36masarray\u001b[0;34m(a, dtype, order)\u001b[0m\n\u001b[1;32m     81\u001b[0m \u001b[0;34m\u001b[0m\u001b[0m\n\u001b[1;32m     82\u001b[0m     \"\"\"\n\u001b[0;32m---> 83\u001b[0;31m     \u001b[0;32mreturn\u001b[0m \u001b[0marray\u001b[0m\u001b[0;34m(\u001b[0m\u001b[0ma\u001b[0m\u001b[0;34m,\u001b[0m \u001b[0mdtype\u001b[0m\u001b[0;34m,\u001b[0m \u001b[0mcopy\u001b[0m\u001b[0;34m=\u001b[0m\u001b[0;32mFalse\u001b[0m\u001b[0;34m,\u001b[0m \u001b[0morder\u001b[0m\u001b[0;34m=\u001b[0m\u001b[0morder\u001b[0m\u001b[0;34m)\u001b[0m\u001b[0;34m\u001b[0m\u001b[0;34m\u001b[0m\u001b[0m\n\u001b[0m\u001b[1;32m     84\u001b[0m \u001b[0;34m\u001b[0m\u001b[0m\n\u001b[1;32m     85\u001b[0m \u001b[0;34m\u001b[0m\u001b[0m\n",
            "\u001b[0;32m/usr/local/lib/python3.7/dist-packages/pandas/core/generic.py\u001b[0m in \u001b[0;36m__array__\u001b[0;34m(self, dtype)\u001b[0m\n\u001b[1;32m   1779\u001b[0m \u001b[0;34m\u001b[0m\u001b[0m\n\u001b[1;32m   1780\u001b[0m     \u001b[0;32mdef\u001b[0m \u001b[0m__array__\u001b[0m\u001b[0;34m(\u001b[0m\u001b[0mself\u001b[0m\u001b[0;34m,\u001b[0m \u001b[0mdtype\u001b[0m\u001b[0;34m=\u001b[0m\u001b[0;32mNone\u001b[0m\u001b[0;34m)\u001b[0m \u001b[0;34m->\u001b[0m \u001b[0mnp\u001b[0m\u001b[0;34m.\u001b[0m\u001b[0mndarray\u001b[0m\u001b[0;34m:\u001b[0m\u001b[0;34m\u001b[0m\u001b[0;34m\u001b[0m\u001b[0m\n\u001b[0;32m-> 1781\u001b[0;31m         \u001b[0;32mreturn\u001b[0m \u001b[0mnp\u001b[0m\u001b[0;34m.\u001b[0m\u001b[0masarray\u001b[0m\u001b[0;34m(\u001b[0m\u001b[0mself\u001b[0m\u001b[0;34m.\u001b[0m\u001b[0m_values\u001b[0m\u001b[0;34m,\u001b[0m \u001b[0mdtype\u001b[0m\u001b[0;34m=\u001b[0m\u001b[0mdtype\u001b[0m\u001b[0;34m)\u001b[0m\u001b[0;34m\u001b[0m\u001b[0;34m\u001b[0m\u001b[0m\n\u001b[0m\u001b[1;32m   1782\u001b[0m \u001b[0;34m\u001b[0m\u001b[0m\n\u001b[1;32m   1783\u001b[0m     \u001b[0;32mdef\u001b[0m \u001b[0m__array_wrap__\u001b[0m\u001b[0;34m(\u001b[0m\u001b[0mself\u001b[0m\u001b[0;34m,\u001b[0m \u001b[0mresult\u001b[0m\u001b[0;34m,\u001b[0m \u001b[0mcontext\u001b[0m\u001b[0;34m=\u001b[0m\u001b[0;32mNone\u001b[0m\u001b[0;34m)\u001b[0m\u001b[0;34m:\u001b[0m\u001b[0;34m\u001b[0m\u001b[0;34m\u001b[0m\u001b[0m\n",
            "\u001b[0;32m/usr/local/lib/python3.7/dist-packages/numpy/core/_asarray.py\u001b[0m in \u001b[0;36masarray\u001b[0;34m(a, dtype, order)\u001b[0m\n\u001b[1;32m     81\u001b[0m \u001b[0;34m\u001b[0m\u001b[0m\n\u001b[1;32m     82\u001b[0m     \"\"\"\n\u001b[0;32m---> 83\u001b[0;31m     \u001b[0;32mreturn\u001b[0m \u001b[0marray\u001b[0m\u001b[0;34m(\u001b[0m\u001b[0ma\u001b[0m\u001b[0;34m,\u001b[0m \u001b[0mdtype\u001b[0m\u001b[0;34m,\u001b[0m \u001b[0mcopy\u001b[0m\u001b[0;34m=\u001b[0m\u001b[0;32mFalse\u001b[0m\u001b[0;34m,\u001b[0m \u001b[0morder\u001b[0m\u001b[0;34m=\u001b[0m\u001b[0morder\u001b[0m\u001b[0;34m)\u001b[0m\u001b[0;34m\u001b[0m\u001b[0;34m\u001b[0m\u001b[0m\n\u001b[0m\u001b[1;32m     84\u001b[0m \u001b[0;34m\u001b[0m\u001b[0m\n\u001b[1;32m     85\u001b[0m \u001b[0;34m\u001b[0m\u001b[0m\n",
            "\u001b[0;31mValueError\u001b[0m: could not convert string to float: 'Honda'"
          ]
        }
      ]
    },
    {
      "cell_type": "markdown",
      "metadata": {
        "id": "ZF7M5hMiGIys"
      },
      "source": [
        "As we see, the cell above breaks because our data contains non-numerical values as well as missing data.\n",
        "\n",
        "To take care of some of the missing data, we'll remove the rows which have no labels (all the rows with missing values in the `Price` column)."
      ]
    },
    {
      "cell_type": "code",
      "metadata": {
        "id": "hHciaaHFGIys"
      },
      "source": [
        "# Remove rows with no labels (NaN's in the Price column)\n",
        "car_sales.dropna(inplace=True)"
      ],
      "execution_count": 55,
      "outputs": []
    },
    {
      "cell_type": "markdown",
      "metadata": {
        "id": "Bh3CHH-3GIyt"
      },
      "source": [
        "### Building a pipeline\n",
        "Since our `car_sales` data has missing numerical values as well as the data isn't all numerical, we'll have to fix these things before we can fit a machine learning model on it.\n",
        "\n",
        "There are ways we could do this with pandas but since we're practicing Scikit-Learn, we'll see how we might do it with the [`Pipeline`](https://scikit-learn.org/stable/modules/generated/sklearn.pipeline.Pipeline.html) class. \n",
        "\n",
        "Because we're modifying columns in our dataframe (filling missing values, converting non-numerical data to numbers) we'll need the [`ColumnTransformer`](https://scikit-learn.org/stable/modules/generated/sklearn.compose.ColumnTransformer.html), [`SimpleImputer`](https://scikit-learn.org/stable/modules/generated/sklearn.impute.SimpleImputer.html) and [`OneHotEncoder`](https://scikit-learn.org/stable/modules/generated/sklearn.preprocessing.OneHotEncoder.html) classes as well.\n",
        "\n",
        "Finally, because we'll need to split our data into training and test sets, we'll import `train_test_split` as well."
      ]
    },
    {
      "cell_type": "code",
      "metadata": {
        "id": "HXE4kuwnGIyt"
      },
      "source": [
        "# Import Pipeline from sklearn's pipeline module\n",
        "from sklearn.pipeline import Pipeline\n",
        "\n",
        "# Import ColumnTransformer from sklearn's compose module\n",
        "from sklearn.compose import ColumnTransformer\n",
        "\n",
        "# Import SimpleImputer from sklearn's impute module\n",
        "from sklearn.impute import SimpleImputer\n",
        "\n",
        "# Import OneHotEncoder from sklearn's preprocessing module\n",
        "from sklearn.preprocessing import OneHotEncoder\n",
        "\n",
        "# Import train_test_split from sklearn's model_selection module\n",
        "from sklearn.model_selection import train_test_split"
      ],
      "execution_count": 56,
      "outputs": []
    },
    {
      "cell_type": "markdown",
      "metadata": {
        "id": "BmApQbyQGIyu"
      },
      "source": [
        "Now we've got the necessary tools we need to create our preprocessing `Pipeline` which fills missing values along with turning all non-numerical data into numbers.\n",
        "\n",
        "Let's start with the categorical features."
      ]
    },
    {
      "cell_type": "code",
      "metadata": {
        "id": "XNl508FXGIyu"
      },
      "source": [
        "# Define different categorical features \n",
        "categorical_features = [\"Make\", \"Colour\"]\n",
        "\n",
        "# Create categorical transformer Pipeline\n",
        "categorical_transformer = Pipeline(steps=[\n",
        "    # Set SimpleImputer strategy to \"constant\" and fill value to \"missing\"\n",
        "    (\"imputer\", SimpleImputer(strategy='constant', fill_value='missing')),\n",
        "    # Set OneHotEncoder to ignore the unknowns\n",
        "    (\"onehot\", OneHotEncoder(handle_unknown='ignore'))])"
      ],
      "execution_count": 60,
      "outputs": []
    },
    {
      "cell_type": "markdown",
      "metadata": {
        "id": "-RcIqIwFGIyu"
      },
      "source": [
        "It would be safe to treat `Doors` as a categorical feature as well, however since we know the vast majority of cars have 4 doors, we'll impute the missing `Doors` values as 4."
      ]
    },
    {
      "cell_type": "code",
      "metadata": {
        "id": "N2e6hNKfGIyv"
      },
      "source": [
        "# Define Doors features\n",
        "door_feature = [\"Doors\"]\n",
        "\n",
        "# Create Doors transformer Pipeline\n",
        "door_transformer = Pipeline(steps=[\n",
        "    # Set SimpleImputer strategy to \"constant\" and fill value to 4\n",
        "    (\"imputer\", SimpleImputer(strategy='constant', fill_value=4))])"
      ],
      "execution_count": 61,
      "outputs": []
    },
    {
      "cell_type": "markdown",
      "metadata": {
        "id": "VBaDluhcGIyv"
      },
      "source": [
        "Now onto the numeric features. In this case, the only numeric feature is the `Odometer (KM)` column. Let's fill its missing values with the median."
      ]
    },
    {
      "cell_type": "code",
      "metadata": {
        "id": "GvtQg239GIyv"
      },
      "source": [
        "# Define numeric features (only the Odometer (KM) column)\n",
        "numeric_features = [\"Odometer (KM)\"]\n",
        "\n",
        "# Crearte numeric transformer Pipeline\n",
        "numeric_transformer = Pipeline(steps=[\n",
        "    # Set SimpleImputer strategy to fill missing values with the \"Median\"\n",
        "    (\"imputer\", SimpleImputer(strategy=\"median\"))])"
      ],
      "execution_count": 85,
      "outputs": []
    },
    {
      "cell_type": "markdown",
      "metadata": {
        "id": "FVf_myLRGIyw"
      },
      "source": [
        "Time to put all of our individual transformer `Pipeline`'s into a single `ColumnTransformer` instance."
      ]
    },
    {
      "cell_type": "code",
      "metadata": {
        "id": "8z7VU2MlGIyw"
      },
      "source": [
        "# Setup preprocessing steps (fill missing values, then convert to numbers)\n",
        "preprocessor = ColumnTransformer(\n",
        "    transformers=[\n",
        "        # Use the categorical_transformer to transform the categorical_features\n",
        "        (\"cat\", categorical_transformer, categorical_features),\n",
        "        # Use the door_transformer to transform the door_feature\n",
        "        (\"door\", door_transformer, door_feature),\n",
        "        # Use the numeric_transformer to transform the numeric_features\n",
        "        (\"num\", numeric_transformer, numeric_features)])"
      ],
      "execution_count": 86,
      "outputs": []
    },
    {
      "cell_type": "markdown",
      "metadata": {
        "id": "xQ2l030zGIyw"
      },
      "source": [
        "Boom! Now our `preprocessor` is ready, time to import some regression models to try out.\n",
        "\n",
        "Comparing our data to the [Scikit-Learn machine learning map](https://scikit-learn.org/stable/tutorial/machine_learning_map/index.html), we can see there's a handful of different regression models we can try.\n",
        "\n",
        "* [RidgeRegression](https://scikit-learn.org/stable/modules/generated/sklearn.linear_model.Ridge.html)\n",
        "* [SVR(kernel=\"linear\")](https://scikit-learn.org/stable/modules/generated/sklearn.svm.SVR.html) - short for Support Vector Regressor, a form form of support vector machine.\n",
        "* [SVR(kernel=\"rbf\")](https://scikit-learn.org/stable/modules/generated/sklearn.svm.SVR.html) - short for Support Vector Regressor, a form of support vector machine.\n",
        "* [RandomForestRegressor](https://scikit-learn.org/stable/modules/generated/sklearn.ensemble.RandomForestRegressor.html) - the regression version of RandomForestClassifier."
      ]
    },
    {
      "cell_type": "code",
      "metadata": {
        "id": "QxrrzcG-GIyw"
      },
      "source": [
        "# Import Ridge from sklearn's linear_model module\n",
        "from sklearn.linear_model import Ridge\n",
        "from sklearn.svm import SVR\n",
        "from sklearn.ensemble import RandomForestRegressor\n",
        "# Import SVR from sklearn's svm module\n",
        "\n",
        "\n",
        "# Import RandomForestRegressor from sklearn's ensemble module\n"
      ],
      "execution_count": 87,
      "outputs": []
    },
    {
      "cell_type": "markdown",
      "metadata": {
        "id": "w1bLK8KYGIyx"
      },
      "source": [
        "Again, thanks to the design of the Scikit-Learn library, we're able to use very similar code for each of these models.\n",
        "\n",
        "To test them all, we'll create a dictionary of regression models and an empty dictionary for regression model results."
      ]
    },
    {
      "cell_type": "code",
      "metadata": {
        "id": "NUi3-rY0GIyx"
      },
      "source": [
        "# Create dictionary of model instances, there should be 4 total key, value pairs\n",
        "# in the form {\"model_name\": model_instance}.\n",
        "# Don't forget there's two versions of SVR, one with a \"linear\" kernel and the\n",
        "# other with kernel set to \"rbf\".\n",
        "regression_models = {\"Ridge\": Ridge(),\n",
        "                     \"SVR_linear\": SVR(kernel = 'linear'),\n",
        "                     \"SVR_rbf\": SVR(),\n",
        "                     \"RandomForestRegressor\": RandomForestRegressor()}\n",
        "\n",
        "# Create an empty dictionary for the regression results\n",
        "regression_results = {}"
      ],
      "execution_count": 88,
      "outputs": []
    },
    {
      "cell_type": "markdown",
      "metadata": {
        "id": "r8Nxbk1lGIyy"
      },
      "source": [
        "Our regression model dictionary is prepared as well as an empty dictionary to append results to, time to get the data split into `X` (feature variables) and `y` (target variable) as well as training and test sets.\n",
        "\n",
        "In our car sales problem, we're trying to use the different characteristics of a car (`X`) to predict its sale price (`y`)."
      ]
    },
    {
      "cell_type": "code",
      "metadata": {
        "id": "lLRTJKqTGIyy"
      },
      "source": [
        "# Create car sales X data (every column of car_sales except Price)\n",
        "car_sales_X = car_sales.drop(['Price'], axis = 1)\n",
        "\n",
        "# Create car sales y data (the Price column of car_sales)\n",
        "car_sales_y = car_sales[\"Price\"]"
      ],
      "execution_count": 89,
      "outputs": []
    },
    {
      "cell_type": "code",
      "metadata": {
        "id": "-UcqFtqlGIyy",
        "colab": {
          "base_uri": "https://localhost:8080/"
        },
        "outputId": "923d18eb-afd4-4620-e1a2-bb8519e03db8"
      },
      "source": [
        "# Use train_test_split to split the car_sales_X and car_sales_y data into \n",
        "# training and test sets.\n",
        "# Give the test set 20% of the data using the test_size parameter.\n",
        "# For reproducibility set the random_state parameter to 42.\n",
        "car_X_train, car_X_test, car_y_train, car_y_test = train_test_split(car_sales_X,\n",
        "                                                                    car_sales_y,\n",
        "                                                                    test_size=0.2,\n",
        "                                                                    random_state=42)\n",
        "\n",
        "# Check the shapes of the training and test datasets\n",
        "car_X_train.shape, car_X_test.shape, car_y_train.shape, car_y_test.shape"
      ],
      "execution_count": 90,
      "outputs": [
        {
          "output_type": "execute_result",
          "data": {
            "text/plain": [
              "((618, 4), (155, 4), (618,), (155,))"
            ]
          },
          "metadata": {
            "tags": []
          },
          "execution_count": 90
        }
      ]
    },
    {
      "cell_type": "markdown",
      "metadata": {
        "id": "LNXxd--IGIyz"
      },
      "source": [
        "* How many rows are in each set?\n",
        "* How many columns are in each set?\n",
        "\n",
        "Alright, our data is split into training and test sets, time to build a small loop which is going to:\n",
        "1. Go through our `regression_models` dictionary\n",
        "2. Create a `Pipeline` which contains our `preprocessor` as well as one of the models in the dictionary\n",
        "3. Fits the `Pipeline` to the car sales training data\n",
        "4. Evaluates the target model on the car sales test data and appends the results to our `regression_results` dictionary"
      ]
    },
    {
      "cell_type": "code",
      "metadata": {
        "id": "HFj76ISHGIyz",
        "colab": {
          "base_uri": "https://localhost:8080/"
        },
        "outputId": "7e181f04-a8ad-40f5-85e7-8c13b1a35be2"
      },
      "source": [
        "# Loop through the items in the regression_models dictionary\n",
        "for model_name, model in regression_models.items():\n",
        "    \n",
        "    # Create a model Pipeline with a preprocessor step and model step\n",
        "    model_pipeline = Pipeline(steps=[\n",
        "                                     (\"preprocessor\", preprocessor),\n",
        "                                      (\"model\", model)\n",
        "                                      ])\n",
        "    \n",
        "    # Fit the model Pipeline to the car sales training data\n",
        "    print(f\"Fitting {model_name}...\")\n",
        "    model_pipeline.fit(car_X_train, car_y_train)\n",
        "    \n",
        "    # Score the model Pipeline on the test data appending the model_name to the \n",
        "    # results dictionary\n",
        "    print(f\"Scoring {model_name}...\")\n",
        "    regression_results[model_name] = model_pipeline.score(car_X_test, \n",
        "                                                          car_y_test)"
      ],
      "execution_count": 91,
      "outputs": [
        {
          "output_type": "stream",
          "text": [
            "Fitting Ridge...\n",
            "Scoring Ridge...\n",
            "Fitting SVR_linear...\n",
            "Scoring SVR_linear...\n",
            "Fitting SVR_rbf...\n",
            "Scoring SVR_rbf...\n",
            "Fitting RandomForestRegressor...\n",
            "Scoring RandomForestRegressor...\n"
          ],
          "name": "stdout"
        }
      ]
    },
    {
      "cell_type": "markdown",
      "metadata": {
        "id": "IvYRyg7UGIyz"
      },
      "source": [
        "Our regression models have been fit, let's see how they did!"
      ]
    },
    {
      "cell_type": "code",
      "metadata": {
        "id": "4hdhRY84GIy0",
        "colab": {
          "base_uri": "https://localhost:8080/"
        },
        "outputId": "af7aaa0b-d6a4-4f53-f152-5dcdbb475256"
      },
      "source": [
        "# Check the results of each regression model by printing the regression_results\n",
        "# dictionary\n",
        "regression_results"
      ],
      "execution_count": 92,
      "outputs": [
        {
          "output_type": "execute_result",
          "data": {
            "text/plain": [
              "{'RandomForestRegressor': 0.35341135240212995,\n",
              " 'Ridge': 0.36577736663648097,\n",
              " 'SVR_linear': 0.16832492314874203,\n",
              " 'SVR_rbf': -0.05341246432306624}"
            ]
          },
          "metadata": {
            "tags": []
          },
          "execution_count": 92
        }
      ]
    },
    {
      "cell_type": "markdown",
      "metadata": {
        "id": "OJhYo2W4GIy0"
      },
      "source": [
        "* Which model did the best?\n",
        "* How could you improve its results?\n",
        "* What metric does the `score()` method of a regression model return by default?\n",
        "\n",
        "Since we've fitted some models but only compared them via the default metric contained in the `score()` method (R^2 score or coefficient of determination), let's take the `RidgeRegression` model and evaluate it with a few other [regression metrics](https://scikit-learn.org/stable/modules/model_evaluation.html#regression-metrics).\n",
        "\n",
        "Specifically, let's find:\n",
        "1. **R^2 (pronounced r-squared) or coefficient of determination** - Compares your models predictions to the mean of the targets. Values can range from negative infinity (a very poor model) to 1. For example, if all your model does is predict the mean of the targets, its R^2 value would be 0. And if your model perfectly predicts a range of numbers it's R^2 value would be 1. \n",
        "2. **Mean absolute error (MAE)** - The average of the absolute differences between predictions and actual values. It gives you an idea of how wrong your predictions were.\n",
        "3. **Mean squared error (MSE)** - The average squared differences between predictions and actual values. Squaring the errors removes negative errors. It also amplifies outliers (samples which have larger errors).\n",
        "\n",
        "Scikit-Learn has a few classes built-in which are going to help us with these, namely, [`mean_absolute_error`](https://scikit-learn.org/stable/modules/generated/sklearn.metrics.mean_absolute_error.html), [`mean_squared_error`](https://scikit-learn.org/stable/modules/generated/sklearn.metrics.mean_squared_error.html) and [`r2_score`](https://scikit-learn.org/stable/modules/generated/sklearn.metrics.r2_score.html)."
      ]
    },
    {
      "cell_type": "code",
      "metadata": {
        "id": "N-KCwLmeGIy0"
      },
      "source": [
        "# Import mean_absolute_error from sklearn's metrics module\n",
        "from sklearn.metrics import mean_absolute_error, mean_squared_error, r2_score\n",
        "\n",
        "# Import mean_squared_error from sklearn's metrics module\n",
        "###\n",
        "\n",
        "# Import r2_score from sklearn's metrics module\n",
        "###"
      ],
      "execution_count": 93,
      "outputs": []
    },
    {
      "cell_type": "markdown",
      "metadata": {
        "id": "OE0XdhucGIy1"
      },
      "source": [
        "All the evaluation metrics we're concerned with compare a model's predictions with the ground truth labels. Knowing this, we'll have to make some predictions.\n",
        "\n",
        "Let's create a `Pipeline` with the `preprocessor` and a `Ridge()` model, fit it on the car sales training data and then make predictions on the car sales test data."
      ]
    },
    {
      "cell_type": "code",
      "metadata": {
        "id": "dT5w2cB7GIy1",
        "colab": {
          "base_uri": "https://localhost:8080/"
        },
        "outputId": "31bc96c6-e713-4b08-fd2a-605ea2a19ad9"
      },
      "source": [
        "# Create RidgeRegression Pipeline with preprocessor as the \"preprocessor\" and\n",
        "# Ridge() as the \"model\".\n",
        "ridge_pipeline = Pipeline(steps=[(\"preprocessor\", preprocessor),\n",
        "                                 (\"model\", Ridge())])\n",
        "\n",
        "# Fit the RidgeRegression Pipeline to the car sales training data\n",
        "ridge_pipeline.fit(car_X_train, car_y_train)\n",
        "\n",
        "# Make predictions on the car sales test data using the RidgeRegression Pipeline\n",
        "car_y_preds = ridge_pipeline.predict(car_X_test)\n",
        "\n",
        "# View the first 50 predictions\n",
        "car_y_preds[:50]"
      ],
      "execution_count": 95,
      "outputs": [
        {
          "output_type": "execute_result",
          "data": {
            "text/plain": [
              "array([18113.10744594, 15891.28437676, 31139.22712851, 13214.17890147,\n",
              "       11680.95949552, 14751.75238167, 18790.68945134,  7973.86510022,\n",
              "       20485.14024953, 26602.22587497, 14184.05314102, 31866.71220171,\n",
              "       32379.41926532, 18982.27822928, 18447.95258016,  8430.99306634,\n",
              "       18860.28067004, 19942.40363675, 15753.56527051, 12812.70792507,\n",
              "       12177.73710983, 20488.45255343, 15514.89461511, 23205.77934117,\n",
              "       29493.07814376, 15542.33441452, 13120.51886252, 10480.1030371 ,\n",
              "       11432.12472531, 19319.91806088,  8690.2075239 , 29986.89318801,\n",
              "       16547.15677666, 13641.02030196, 18816.53130698, 11229.19713112,\n",
              "       11088.18030083, 14853.41935308, 10406.16875737, 18252.48661851,\n",
              "       24002.44865212, 11535.76022869, 10239.13220302,  9420.49955689,\n",
              "        9011.10067487, 20307.14122732,  9168.33571994, 19121.64894963,\n",
              "       12907.28160849, 22488.1902098 ])"
            ]
          },
          "metadata": {
            "tags": []
          },
          "execution_count": 95
        }
      ]
    },
    {
      "cell_type": "markdown",
      "metadata": {
        "id": "QHYwGvZqGIy1"
      },
      "source": [
        "Nice! Now we've got some predictions, time to evaluate them. We'll find the mean squared error (MSE), mean absolute error (MAE) and R^2 score (coefficient of determination) of our model."
      ]
    },
    {
      "cell_type": "code",
      "metadata": {
        "id": "pDYw04o_GIy2",
        "colab": {
          "base_uri": "https://localhost:8080/"
        },
        "outputId": "a6fe88e1-0348-4218-d0ab-251e7cf0356b"
      },
      "source": [
        "# EXAMPLE: Find the MSE by comparing the car sales test labels to the car sales predictions\n",
        "mse = mean_squared_error(car_y_test, car_y_preds)\n",
        "# Return the MSE\n",
        "mse"
      ],
      "execution_count": 96,
      "outputs": [
        {
          "output_type": "execute_result",
          "data": {
            "text/plain": [
              "45929584.938972704"
            ]
          },
          "metadata": {
            "tags": []
          },
          "execution_count": 96
        }
      ]
    },
    {
      "cell_type": "code",
      "metadata": {
        "id": "Eg_X2yAWGIy2",
        "colab": {
          "base_uri": "https://localhost:8080/"
        },
        "outputId": "c16eeeca-2baf-40f4-ab32-b0aa2dbc4a0d"
      },
      "source": [
        "# Find the MAE by comparing the car sales test labels to the car sales predictions\n",
        "mae = mean_absolute_error(car_y_test, car_y_preds)\n",
        "# Return the MSE\n",
        "mae"
      ],
      "execution_count": 97,
      "outputs": [
        {
          "output_type": "execute_result",
          "data": {
            "text/plain": [
              "5452.242340960162"
            ]
          },
          "metadata": {
            "tags": []
          },
          "execution_count": 97
        }
      ]
    },
    {
      "cell_type": "code",
      "metadata": {
        "scrolled": true,
        "id": "BR6zjB5oGIy2",
        "colab": {
          "base_uri": "https://localhost:8080/"
        },
        "outputId": "67bd6186-f330-42e2-fbda-4d06313d37f3"
      },
      "source": [
        "# Find the R^2 score by comparing the car sales test labels to the car sales predictions\n",
        "r2 = r2_score(car_y_test, car_y_preds)\n",
        "# Return the R^2 score\n",
        "r2"
      ],
      "execution_count": 98,
      "outputs": [
        {
          "output_type": "execute_result",
          "data": {
            "text/plain": [
              "0.36577736663648097"
            ]
          },
          "metadata": {
            "tags": []
          },
          "execution_count": 98
        }
      ]
    },
    {
      "cell_type": "markdown",
      "metadata": {
        "id": "tsRtNNMZGIy3"
      },
      "source": [
        "Boom! Our model could potentially do with some hyperparameter tuning (this would be a great extension). And we could probably do with finding some more data on our problem, 1000 rows doesn't seem to be sufficient.\n",
        "\n",
        "* How would you export the trained regression model?"
      ]
    },
    {
      "cell_type": "markdown",
      "metadata": {
        "id": "YpaRYyrdGIy3"
      },
      "source": [
        "## Extensions\n",
        "\n",
        "You should be proud. Getting this far means you've worked through a classification problem and regression problem using pure (mostly) Scikit-Learn (no easy feat!).\n",
        "\n",
        "For more exercises, check out the [Scikit-Learn getting started documentation](https://scikit-learn.org/stable/getting_started.html). A good practice would be to read through it and for the parts you find interesting, add them into the end of this notebook.\n",
        "\n",
        "Finally, as always, remember, the best way to learn something new is to try it. And try it relentlessly. If you're unsure of how to do something, never be afraid to ask a question or search for something such as, \"how to tune the hyperparmaters of a scikit-learn ridge regression model\"."
      ]
    }
  ]
}
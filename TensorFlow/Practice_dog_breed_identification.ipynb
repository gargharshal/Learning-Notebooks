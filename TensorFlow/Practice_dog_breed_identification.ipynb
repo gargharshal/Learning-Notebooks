{
  "nbformat": 4,
  "nbformat_minor": 0,
  "metadata": {
    "colab": {
      "name": "Practice dog breed identification.ipynb",
      "provenance": [],
      "collapsed_sections": [],
      "toc_visible": true
    },
    "kernelspec": {
      "name": "python3",
      "display_name": "Python 3"
    },
    "accelerator": "GPU"
  },
  "cells": [
    {
      "cell_type": "markdown",
      "metadata": {
        "id": "QmSVl1eG31t3"
      },
      "source": [
        "## ToDo List\n",
        "\n",
        "* get our workspace ready, importing libraries\n",
        "\n",
        "* getting images and their labels\n",
        "*\tcreate pathnames for each image    \n",
        "*\tone hot encoding style boolean array for each image's breed name  \n",
        "* create val set, as a test set is available on Kaggle \n",
        "\n",
        "* turning data into tensors\n",
        "  * `tf.image.decode_jpeg()` and create a function to do this for all the other images \n",
        "  * convert 0-255 to 0-1\n",
        "  * return in original size (in our case it is 224, 224)\n",
        "* create batches, by default of size 32 (because gpu has limited amount of memory)\n",
        "  * we need to convert `X` and `y` (not in case of test data) into batches\n",
        "\n",
        "---\n",
        "\n",
        "Building a model\n",
        "\n",
        "* we will first build the model only on 1000 images\n",
        "* parameters required - input shape, output shape, model url (How to select model for neural network training) - https://tfhub.dev/google/imagenet/mobilenet_v2_130_224/classification/4\n",
        "* fitting the data into the model\n",
        "* we will use sequential api `tf.keras.sequential()`, then compile and then build\n",
        "* return the model\n",
        "* model.summary()\n",
        "\n",
        "--- \n",
        "\n",
        "creating call backs \n",
        "* tensorboard callbacks\n",
        "  * load extension\n",
        "  * create logs for tracking the progress of the model for future reference, add time and validation/train\n",
        "* early stopping callbacks\n",
        "\n",
        "---\n",
        "\n",
        "Training the model with paritial datasets\n",
        "* fitting the model with - train data, **validation data** , callbacks and other parameters like epochs, validation_freq \n",
        "\n",
        "---\n",
        "after building the model, let's see this later\n",
        "* check the tensorboard\n",
        "* make prediction on validation dataset, but before that, we need to unbatchify that data (Can we make prediction in form of batches)\n",
        "\n",
        "---\n",
        "---\n",
        "\n",
        "Training the model with full datasets\n",
        "\n",
        "\n",
        "\n",
        "\n"
      ]
    },
    {
      "cell_type": "markdown",
      "metadata": {
        "id": "EMzMmJAd83YG"
      },
      "source": [
        "## Setting up the env and mounting the libraries"
      ]
    },
    {
      "cell_type": "code",
      "metadata": {
        "id": "nLOPjoNp35rc",
        "colab": {
          "base_uri": "https://localhost:8080/"
        },
        "outputId": "a3a4ab60-44cf-4583-c7fb-f7aeb7af75fc"
      },
      "source": [
        "# getting the libraries ready\n",
        "import tensorflow as tf\n",
        "import tensorflow_hub as hub\n",
        "\n",
        "#check if gpu is available, if not go to runtime and select \"change runtime type\"\n",
        "tf.config.list_physical_devices()"
      ],
      "execution_count": 3,
      "outputs": [
        {
          "output_type": "execute_result",
          "data": {
            "text/plain": [
              "[PhysicalDevice(name='/physical_device:CPU:0', device_type='CPU'),\n",
              " PhysicalDevice(name='/physical_device:XLA_CPU:0', device_type='XLA_CPU'),\n",
              " PhysicalDevice(name='/physical_device:XLA_GPU:0', device_type='XLA_GPU'),\n",
              " PhysicalDevice(name='/physical_device:GPU:0', device_type='GPU')]"
            ]
          },
          "metadata": {
            "tags": []
          },
          "execution_count": 3
        }
      ]
    },
    {
      "cell_type": "code",
      "metadata": {
        "colab": {
          "base_uri": "https://localhost:8080/"
        },
        "id": "fPqKJ9_h7LlC",
        "outputId": "fc4e365e-7a3d-4339-9b8c-e6c0322657af"
      },
      "source": [
        "# mount the drive as we will need storage \n",
        "\n",
        "from google.colab import drive\n",
        "drive.mount('/content/drive')"
      ],
      "execution_count": 4,
      "outputs": [
        {
          "output_type": "stream",
          "text": [
            "Mounted at /content/drive\n"
          ],
          "name": "stdout"
        }
      ]
    },
    {
      "cell_type": "code",
      "metadata": {
        "colab": {
          "base_uri": "https://localhost:8080/"
        },
        "id": "O8cuwt0l7OV8",
        "outputId": "6fbb87d0-d23e-4d7b-de66-cbfc759ef6e0"
      },
      "source": [
        "cd /content/drive"
      ],
      "execution_count": 5,
      "outputs": [
        {
          "output_type": "stream",
          "text": [
            "/content/drive\n"
          ],
          "name": "stdout"
        }
      ]
    },
    {
      "cell_type": "code",
      "metadata": {
        "colab": {
          "base_uri": "https://localhost:8080/",
          "height": 36
        },
        "id": "C8BgMc3c7oiU",
        "outputId": "dea2eab4-18a0-434f-d93f-7b700f30f525"
      },
      "source": [
        "pwd"
      ],
      "execution_count": 6,
      "outputs": [
        {
          "output_type": "execute_result",
          "data": {
            "application/vnd.google.colaboratory.intrinsic+json": {
              "type": "string"
            },
            "text/plain": [
              "'/content/drive'"
            ]
          },
          "metadata": {
            "tags": []
          },
          "execution_count": 6
        }
      ]
    },
    {
      "cell_type": "code",
      "metadata": {
        "id": "jTpRKIjt_tuX"
      },
      "source": [
        "# the file has already been zipped \n",
        "# unzipping the file and getting the data ready\n",
        "# !unzip \"/content/drive/My Drive/Dog Breed Kaggle/dog-breed-identification.zip\" -d \"/content/drive/My Drive/Dog Breed Kaggle/Dog Breed Practice\"\n"
      ],
      "execution_count": 7,
      "outputs": []
    },
    {
      "cell_type": "code",
      "metadata": {
        "id": "f52o8Oha8-P4"
      },
      "source": [
        "import numpy as np\n",
        "import pandas as pd"
      ],
      "execution_count": 8,
      "outputs": []
    },
    {
      "cell_type": "code",
      "metadata": {
        "colab": {
          "base_uri": "https://localhost:8080/",
          "height": 206
        },
        "id": "7-YS5Mws7rMa",
        "outputId": "e9e225f1-7ce7-4f82-d37c-9dbc83bf7136"
      },
      "source": [
        "train_labels = pd.read_csv(\"/content/drive/MyDrive/Dog Breed Kaggle/Dog Breed Practice/labels.csv\")\n",
        "train_labels.head()"
      ],
      "execution_count": 9,
      "outputs": [
        {
          "output_type": "execute_result",
          "data": {
            "text/html": [
              "<div>\n",
              "<style scoped>\n",
              "    .dataframe tbody tr th:only-of-type {\n",
              "        vertical-align: middle;\n",
              "    }\n",
              "\n",
              "    .dataframe tbody tr th {\n",
              "        vertical-align: top;\n",
              "    }\n",
              "\n",
              "    .dataframe thead th {\n",
              "        text-align: right;\n",
              "    }\n",
              "</style>\n",
              "<table border=\"1\" class=\"dataframe\">\n",
              "  <thead>\n",
              "    <tr style=\"text-align: right;\">\n",
              "      <th></th>\n",
              "      <th>id</th>\n",
              "      <th>breed</th>\n",
              "    </tr>\n",
              "  </thead>\n",
              "  <tbody>\n",
              "    <tr>\n",
              "      <th>0</th>\n",
              "      <td>000bec180eb18c7604dcecc8fe0dba07</td>\n",
              "      <td>boston_bull</td>\n",
              "    </tr>\n",
              "    <tr>\n",
              "      <th>1</th>\n",
              "      <td>001513dfcb2ffafc82cccf4d8bbaba97</td>\n",
              "      <td>dingo</td>\n",
              "    </tr>\n",
              "    <tr>\n",
              "      <th>2</th>\n",
              "      <td>001cdf01b096e06d78e9e5112d419397</td>\n",
              "      <td>pekinese</td>\n",
              "    </tr>\n",
              "    <tr>\n",
              "      <th>3</th>\n",
              "      <td>00214f311d5d2247d5dfe4fe24b2303d</td>\n",
              "      <td>bluetick</td>\n",
              "    </tr>\n",
              "    <tr>\n",
              "      <th>4</th>\n",
              "      <td>0021f9ceb3235effd7fcde7f7538ed62</td>\n",
              "      <td>golden_retriever</td>\n",
              "    </tr>\n",
              "  </tbody>\n",
              "</table>\n",
              "</div>"
            ],
            "text/plain": [
              "                                 id             breed\n",
              "0  000bec180eb18c7604dcecc8fe0dba07       boston_bull\n",
              "1  001513dfcb2ffafc82cccf4d8bbaba97             dingo\n",
              "2  001cdf01b096e06d78e9e5112d419397          pekinese\n",
              "3  00214f311d5d2247d5dfe4fe24b2303d          bluetick\n",
              "4  0021f9ceb3235effd7fcde7f7538ed62  golden_retriever"
            ]
          },
          "metadata": {
            "tags": []
          },
          "execution_count": 9
        }
      ]
    },
    {
      "cell_type": "markdown",
      "metadata": {
        "id": "DK2KPXgJ8-c4"
      },
      "source": [
        "## Preparing the training dataset"
      ]
    },
    {
      "cell_type": "markdown",
      "metadata": {
        "id": "ensrxMOeEQ17"
      },
      "source": [
        "### Converting label in desired format"
      ]
    },
    {
      "cell_type": "code",
      "metadata": {
        "colab": {
          "base_uri": "https://localhost:8080/"
        },
        "id": "NkjOSlA8BPDX",
        "outputId": "a0151925-51d6-41b4-f43d-7d5225804430"
      },
      "source": [
        "unique_breeds = np.unique(train_labels[\"breed\"])\n",
        "len(unique_breeds), unique_breeds"
      ],
      "execution_count": 10,
      "outputs": [
        {
          "output_type": "execute_result",
          "data": {
            "text/plain": [
              "(120,\n",
              " array(['affenpinscher', 'afghan_hound', 'african_hunting_dog', 'airedale',\n",
              "        'american_staffordshire_terrier', 'appenzeller',\n",
              "        'australian_terrier', 'basenji', 'basset', 'beagle',\n",
              "        'bedlington_terrier', 'bernese_mountain_dog',\n",
              "        'black-and-tan_coonhound', 'blenheim_spaniel', 'bloodhound',\n",
              "        'bluetick', 'border_collie', 'border_terrier', 'borzoi',\n",
              "        'boston_bull', 'bouvier_des_flandres', 'boxer',\n",
              "        'brabancon_griffon', 'briard', 'brittany_spaniel', 'bull_mastiff',\n",
              "        'cairn', 'cardigan', 'chesapeake_bay_retriever', 'chihuahua',\n",
              "        'chow', 'clumber', 'cocker_spaniel', 'collie',\n",
              "        'curly-coated_retriever', 'dandie_dinmont', 'dhole', 'dingo',\n",
              "        'doberman', 'english_foxhound', 'english_setter',\n",
              "        'english_springer', 'entlebucher', 'eskimo_dog',\n",
              "        'flat-coated_retriever', 'french_bulldog', 'german_shepherd',\n",
              "        'german_short-haired_pointer', 'giant_schnauzer',\n",
              "        'golden_retriever', 'gordon_setter', 'great_dane',\n",
              "        'great_pyrenees', 'greater_swiss_mountain_dog', 'groenendael',\n",
              "        'ibizan_hound', 'irish_setter', 'irish_terrier',\n",
              "        'irish_water_spaniel', 'irish_wolfhound', 'italian_greyhound',\n",
              "        'japanese_spaniel', 'keeshond', 'kelpie', 'kerry_blue_terrier',\n",
              "        'komondor', 'kuvasz', 'labrador_retriever', 'lakeland_terrier',\n",
              "        'leonberg', 'lhasa', 'malamute', 'malinois', 'maltese_dog',\n",
              "        'mexican_hairless', 'miniature_pinscher', 'miniature_poodle',\n",
              "        'miniature_schnauzer', 'newfoundland', 'norfolk_terrier',\n",
              "        'norwegian_elkhound', 'norwich_terrier', 'old_english_sheepdog',\n",
              "        'otterhound', 'papillon', 'pekinese', 'pembroke', 'pomeranian',\n",
              "        'pug', 'redbone', 'rhodesian_ridgeback', 'rottweiler',\n",
              "        'saint_bernard', 'saluki', 'samoyed', 'schipperke',\n",
              "        'scotch_terrier', 'scottish_deerhound', 'sealyham_terrier',\n",
              "        'shetland_sheepdog', 'shih-tzu', 'siberian_husky', 'silky_terrier',\n",
              "        'soft-coated_wheaten_terrier', 'staffordshire_bullterrier',\n",
              "        'standard_poodle', 'standard_schnauzer', 'sussex_spaniel',\n",
              "        'tibetan_mastiff', 'tibetan_terrier', 'toy_poodle', 'toy_terrier',\n",
              "        'vizsla', 'walker_hound', 'weimaraner', 'welsh_springer_spaniel',\n",
              "        'west_highland_white_terrier', 'whippet',\n",
              "        'wire-haired_fox_terrier', 'yorkshire_terrier'], dtype=object))"
            ]
          },
          "metadata": {
            "tags": []
          },
          "execution_count": 10
        }
      ]
    },
    {
      "cell_type": "code",
      "metadata": {
        "colab": {
          "base_uri": "https://localhost:8080/"
        },
        "id": "z8lkH4X59foR",
        "outputId": "b33789ec-6bc0-416d-81cc-13a8c19480cf"
      },
      "source": [
        "sample_array = unique_breeds == train_labels[\"breed\"][1]\n",
        "sample_array"
      ],
      "execution_count": 11,
      "outputs": [
        {
          "output_type": "execute_result",
          "data": {
            "text/plain": [
              "array([False, False, False, False, False, False, False, False, False,\n",
              "       False, False, False, False, False, False, False, False, False,\n",
              "       False, False, False, False, False, False, False, False, False,\n",
              "       False, False, False, False, False, False, False, False, False,\n",
              "       False,  True, False, False, False, False, False, False, False,\n",
              "       False, False, False, False, False, False, False, False, False,\n",
              "       False, False, False, False, False, False, False, False, False,\n",
              "       False, False, False, False, False, False, False, False, False,\n",
              "       False, False, False, False, False, False, False, False, False,\n",
              "       False, False, False, False, False, False, False, False, False,\n",
              "       False, False, False, False, False, False, False, False, False,\n",
              "       False, False, False, False, False, False, False, False, False,\n",
              "       False, False, False, False, False, False, False, False, False,\n",
              "       False, False, False])"
            ]
          },
          "metadata": {
            "tags": []
          },
          "execution_count": 11
        }
      ]
    },
    {
      "cell_type": "code",
      "metadata": {
        "colab": {
          "base_uri": "https://localhost:8080/"
        },
        "id": "LFbHTnIL-HuB",
        "outputId": "01188e41-2fce-4176-85f5-832f29468fe1"
      },
      "source": [
        "sample_array.astype(int)"
      ],
      "execution_count": 12,
      "outputs": [
        {
          "output_type": "execute_result",
          "data": {
            "text/plain": [
              "array([0, 0, 0, 0, 0, 0, 0, 0, 0, 0, 0, 0, 0, 0, 0, 0, 0, 0, 0, 0, 0, 0,\n",
              "       0, 0, 0, 0, 0, 0, 0, 0, 0, 0, 0, 0, 0, 0, 0, 1, 0, 0, 0, 0, 0, 0,\n",
              "       0, 0, 0, 0, 0, 0, 0, 0, 0, 0, 0, 0, 0, 0, 0, 0, 0, 0, 0, 0, 0, 0,\n",
              "       0, 0, 0, 0, 0, 0, 0, 0, 0, 0, 0, 0, 0, 0, 0, 0, 0, 0, 0, 0, 0, 0,\n",
              "       0, 0, 0, 0, 0, 0, 0, 0, 0, 0, 0, 0, 0, 0, 0, 0, 0, 0, 0, 0, 0, 0,\n",
              "       0, 0, 0, 0, 0, 0, 0, 0, 0, 0])"
            ]
          },
          "metadata": {
            "tags": []
          },
          "execution_count": 12
        }
      ]
    },
    {
      "cell_type": "code",
      "metadata": {
        "colab": {
          "base_uri": "https://localhost:8080/"
        },
        "id": "9pVV_eVZCMyG",
        "outputId": "14631ac0-0e75-4c16-9d59-3ff0eb390b11"
      },
      "source": [
        "# creating int type boolean array for each training example\n",
        "boolean_label = [(label == unique_breeds).astype(int) for label in train_labels[\"breed\"]]\n",
        "boolean_label[:2]"
      ],
      "execution_count": 13,
      "outputs": [
        {
          "output_type": "execute_result",
          "data": {
            "text/plain": [
              "[array([0, 0, 0, 0, 0, 0, 0, 0, 0, 0, 0, 0, 0, 0, 0, 0, 0, 0, 0, 1, 0, 0,\n",
              "        0, 0, 0, 0, 0, 0, 0, 0, 0, 0, 0, 0, 0, 0, 0, 0, 0, 0, 0, 0, 0, 0,\n",
              "        0, 0, 0, 0, 0, 0, 0, 0, 0, 0, 0, 0, 0, 0, 0, 0, 0, 0, 0, 0, 0, 0,\n",
              "        0, 0, 0, 0, 0, 0, 0, 0, 0, 0, 0, 0, 0, 0, 0, 0, 0, 0, 0, 0, 0, 0,\n",
              "        0, 0, 0, 0, 0, 0, 0, 0, 0, 0, 0, 0, 0, 0, 0, 0, 0, 0, 0, 0, 0, 0,\n",
              "        0, 0, 0, 0, 0, 0, 0, 0, 0, 0]),\n",
              " array([0, 0, 0, 0, 0, 0, 0, 0, 0, 0, 0, 0, 0, 0, 0, 0, 0, 0, 0, 0, 0, 0,\n",
              "        0, 0, 0, 0, 0, 0, 0, 0, 0, 0, 0, 0, 0, 0, 0, 1, 0, 0, 0, 0, 0, 0,\n",
              "        0, 0, 0, 0, 0, 0, 0, 0, 0, 0, 0, 0, 0, 0, 0, 0, 0, 0, 0, 0, 0, 0,\n",
              "        0, 0, 0, 0, 0, 0, 0, 0, 0, 0, 0, 0, 0, 0, 0, 0, 0, 0, 0, 0, 0, 0,\n",
              "        0, 0, 0, 0, 0, 0, 0, 0, 0, 0, 0, 0, 0, 0, 0, 0, 0, 0, 0, 0, 0, 0,\n",
              "        0, 0, 0, 0, 0, 0, 0, 0, 0, 0])]"
            ]
          },
          "metadata": {
            "tags": []
          },
          "execution_count": 13
        }
      ]
    },
    {
      "cell_type": "code",
      "metadata": {
        "colab": {
          "base_uri": "https://localhost:8080/"
        },
        "id": "Z2JvSMRvDzRV",
        "outputId": "55492278-8298-437a-c2c2-73367fa35f8a"
      },
      "source": [
        "len(boolean_label), boolean_label[1].shape"
      ],
      "execution_count": 14,
      "outputs": [
        {
          "output_type": "execute_result",
          "data": {
            "text/plain": [
              "(10222, (120,))"
            ]
          },
          "metadata": {
            "tags": []
          },
          "execution_count": 14
        }
      ]
    },
    {
      "cell_type": "markdown",
      "metadata": {
        "id": "6pr3e9w0EXjw"
      },
      "source": [
        "### Creating filepath of train data\n",
        "Instead of storing the actual file, we will create a list of path of all the images\n"
      ]
    },
    {
      "cell_type": "code",
      "metadata": {
        "id": "dVSm4srED5Ac"
      },
      "source": [
        "import os\n",
        "train_folder_dir = \"/content/drive/MyDrive/Dog Breed Kaggle/Dog Breed Practice/train/\"\n",
        "train_filepaths = [train_folder_dir + files + \".jpg\" for files in train_labels[\"id\"]]"
      ],
      "execution_count": 15,
      "outputs": []
    },
    {
      "cell_type": "code",
      "metadata": {
        "colab": {
          "base_uri": "https://localhost:8080/"
        },
        "id": "quL68FT6kI5S",
        "outputId": "6f55f9f2-f25e-45a6-82ba-f61481dd9677"
      },
      "source": [
        "len(train_filepaths)"
      ],
      "execution_count": 16,
      "outputs": [
        {
          "output_type": "execute_result",
          "data": {
            "text/plain": [
              "10222"
            ]
          },
          "metadata": {
            "tags": []
          },
          "execution_count": 16
        }
      ]
    },
    {
      "cell_type": "code",
      "metadata": {
        "colab": {
          "base_uri": "https://localhost:8080/"
        },
        "id": "vApYgzJVkNdf",
        "outputId": "0f69f77d-e408-4531-a8a5-25afd7968fb1"
      },
      "source": [
        "train_filepaths[:10]"
      ],
      "execution_count": 17,
      "outputs": [
        {
          "output_type": "execute_result",
          "data": {
            "text/plain": [
              "['/content/drive/MyDrive/Dog Breed Kaggle/Dog Breed Practice/train/000bec180eb18c7604dcecc8fe0dba07.jpg',\n",
              " '/content/drive/MyDrive/Dog Breed Kaggle/Dog Breed Practice/train/001513dfcb2ffafc82cccf4d8bbaba97.jpg',\n",
              " '/content/drive/MyDrive/Dog Breed Kaggle/Dog Breed Practice/train/001cdf01b096e06d78e9e5112d419397.jpg',\n",
              " '/content/drive/MyDrive/Dog Breed Kaggle/Dog Breed Practice/train/00214f311d5d2247d5dfe4fe24b2303d.jpg',\n",
              " '/content/drive/MyDrive/Dog Breed Kaggle/Dog Breed Practice/train/0021f9ceb3235effd7fcde7f7538ed62.jpg',\n",
              " '/content/drive/MyDrive/Dog Breed Kaggle/Dog Breed Practice/train/002211c81b498ef88e1b40b9abf84e1d.jpg',\n",
              " '/content/drive/MyDrive/Dog Breed Kaggle/Dog Breed Practice/train/00290d3e1fdd27226ba27a8ce248ce85.jpg',\n",
              " '/content/drive/MyDrive/Dog Breed Kaggle/Dog Breed Practice/train/002a283a315af96eaea0e28e7163b21b.jpg',\n",
              " '/content/drive/MyDrive/Dog Breed Kaggle/Dog Breed Practice/train/003df8b8a8b05244b1d920bb6cf451f9.jpg',\n",
              " '/content/drive/MyDrive/Dog Breed Kaggle/Dog Breed Practice/train/0042188c895a2f14ef64a918ed9c7b64.jpg']"
            ]
          },
          "metadata": {
            "tags": []
          },
          "execution_count": 17
        }
      ]
    },
    {
      "cell_type": "markdown",
      "metadata": {
        "id": "Cq3ni3WBsyCd"
      },
      "source": [
        "## Understand our data"
      ]
    },
    {
      "cell_type": "code",
      "metadata": {
        "colab": {
          "base_uri": "https://localhost:8080/",
          "height": 392
        },
        "id": "svJVKk6dtqwF",
        "outputId": "3f4c5393-dc81-468f-f964-eedd07cc26ca"
      },
      "source": [
        "# display the image, from the image path\n",
        "from IPython.display import Image, display\n",
        "Image(train_filepaths[2])"
      ],
      "execution_count": 18,
      "outputs": [
        {
          "output_type": "execute_result",
          "data": {
            "image/jpeg": "[encoded data removed]",
            "text/plain": [
              "<IPython.core.display.Image object>"
            ]
          },
          "metadata": {
            "tags": []
          },
          "execution_count": 18
        }
      ]
    },
    {
      "cell_type": "code",
      "metadata": {
        "colab": {
          "base_uri": "https://localhost:8080/"
        },
        "id": "-kKVaPeutqs9",
        "outputId": "291ef0e9-8c6a-489c-fd05-3718f712d639"
      },
      "source": [
        "# the default size is byte\n",
        "for x in train_filepaths[:10]:\n",
        "  print(os.path.getsize(x))"
      ],
      "execution_count": 19,
      "outputs": [
        {
          "output_type": "stream",
          "text": [
            "54775\n",
            "49514\n",
            "33339\n",
            "40134\n",
            "26442\n",
            "48129\n",
            "31936\n",
            "15031\n",
            "83174\n",
            "32188\n"
          ],
          "name": "stdout"
        }
      ]
    },
    {
      "cell_type": "code",
      "metadata": {
        "colab": {
          "base_uri": "https://localhost:8080/"
        },
        "id": "IUORlQiz8unj",
        "outputId": "c3d79f95-feea-453c-9c84-ce9f105c72e4"
      },
      "source": [
        "# convert image into numpy array\n",
        "from matplotlib.pyplot import imread\n",
        "\n",
        "for x in train_filepaths[:10]:\n",
        "  print(imread(x).shape)"
      ],
      "execution_count": 20,
      "outputs": [
        {
          "output_type": "stream",
          "text": [
            "(375, 500, 3)\n",
            "(375, 500, 3)\n",
            "(375, 500, 3)\n",
            "(344, 400, 3)\n",
            "(500, 500, 3)\n",
            "(375, 500, 3)\n",
            "(470, 500, 3)\n",
            "(227, 231, 3)\n",
            "(500, 474, 3)\n",
            "(332, 500, 3)\n"
          ],
          "name": "stdout"
        }
      ]
    },
    {
      "cell_type": "markdown",
      "metadata": {
        "id": "wkSwlPgSzNMz"
      },
      "source": [
        "We can see that the size of all the images are different, we will convert these images into tensors and then resize all the images into same size"
      ]
    },
    {
      "cell_type": "markdown",
      "metadata": {
        "id": "80zf9e5TpuZV"
      },
      "source": [
        "## Create a val dataset"
      ]
    },
    {
      "cell_type": "code",
      "metadata": {
        "id": "5LH_s5T9pxMC"
      },
      "source": [
        "X = train_filepaths\n",
        "y = boolean_label"
      ],
      "execution_count": 21,
      "outputs": []
    },
    {
      "cell_type": "code",
      "metadata": {
        "id": "B8Gt6NSSxJut"
      },
      "source": [
        "# consider only 1000 example as of now\n",
        "NUM_IMAGES = 1000 #@param {type: \"slider\", min: 100, max: 1000, step : 100}\n"
      ],
      "execution_count": 22,
      "outputs": []
    },
    {
      "cell_type": "code",
      "metadata": {
        "colab": {
          "base_uri": "https://localhost:8080/"
        },
        "id": "8g4UmjNWp-nj",
        "outputId": "26179e73-7d16-4e35-c8ea-0a70eb33796d"
      },
      "source": [
        "from sklearn.model_selection import train_test_split\n",
        "\n",
        "X_train, X_val, y_train, y_val = train_test_split(X[:NUM_IMAGES], \n",
        "                                                  y[:NUM_IMAGES], \n",
        "                                                  test_size = 0.2,\n",
        "                                                  random_state = 42)\n",
        "\n",
        "len(X_train), len(X_val), len(y_train), len(y_val)"
      ],
      "execution_count": 23,
      "outputs": [
        {
          "output_type": "execute_result",
          "data": {
            "text/plain": [
              "(800, 200, 800, 200)"
            ]
          },
          "metadata": {
            "tags": []
          },
          "execution_count": 23
        }
      ]
    },
    {
      "cell_type": "markdown",
      "metadata": {
        "id": "waUKkFkWsI9u"
      },
      "source": [
        "## Turning data into tensors\n",
        "We need to convert our images into tensors as results are alredy in numerical format"
      ]
    },
    {
      "cell_type": "markdown",
      "metadata": {
        "id": "ZyLfqUOoHH4h"
      },
      "source": [
        "Let's create a function to create data into tensors, as it can be used to convert future test values as well\n",
        "this function will\n",
        "* read an image from the path\n",
        "* convert into a tensor \n",
        "* resize to Fixed size\n",
        "* rescale form 0-255 to 0-1 \n",
        "* return"
      ]
    },
    {
      "cell_type": "code",
      "metadata": {
        "colab": {
          "base_uri": "https://localhost:8080/"
        },
        "id": "AMDHrfRdNRq7",
        "outputId": "eec427e9-4ef4-42b0-c261-a5e070a230f3"
      },
      "source": [
        "sample = tf.io.read_file(train_filepaths[1])\n",
        "sample = tf.image.decode_jpeg(sample, channels = 3)\n",
        "sample = tf.image.convert_image_dtype(sample, tf.float32)\n",
        "sample = tf.image.resize(sample, size = [224, 224])\n",
        "sample"
      ],
      "execution_count": 24,
      "outputs": [
        {
          "output_type": "execute_result",
          "data": {
            "text/plain": [
              "<tf.Tensor: shape=(224, 224, 3), dtype=float32, numpy=\n",
              "array([[[0.22176053, 0.1532646 , 0.12077089],\n",
              "        [0.24290617, 0.17007563, 0.12532842],\n",
              "        [0.25025794, 0.16272292, 0.10750583],\n",
              "        ...,\n",
              "        [0.4866906 , 0.31810698, 0.18481737],\n",
              "        [0.46775866, 0.32910115, 0.20204483],\n",
              "        [0.36027768, 0.2283099 , 0.11981372]],\n",
              "\n",
              "       [[0.22331059, 0.14479166, 0.10454448],\n",
              "        [0.20956516, 0.13433544, 0.08120592],\n",
              "        [0.20576334, 0.11818807, 0.06297097],\n",
              "        ...,\n",
              "        [0.34747207, 0.21052358, 0.10098223],\n",
              "        [0.25428382, 0.14531395, 0.05989731],\n",
              "        [0.22268865, 0.11715643, 0.03506609]],\n",
              "\n",
              "       [[0.21673436, 0.12777252, 0.0741048 ],\n",
              "        [0.20701681, 0.11805496, 0.05878148],\n",
              "        [0.22288738, 0.12433178, 0.0666433 ],\n",
              "        ...,\n",
              "        [0.19956292, 0.10319562, 0.05528758],\n",
              "        [0.24323113, 0.17113218, 0.12510629],\n",
              "        [0.17322923, 0.11525137, 0.08183777]],\n",
              "\n",
              "       ...,\n",
              "\n",
              "       [[0.71888185, 0.40606675, 0.10109472],\n",
              "        [0.72154796, 0.42897093, 0.13663898],\n",
              "        [0.6958182 , 0.42852128, 0.11465572],\n",
              "        ...,\n",
              "        [0.17751534, 0.07700744, 0.05542682],\n",
              "        [0.12117657, 0.0364985 , 0.0257476 ],\n",
              "        [0.1788425 , 0.09627174, 0.0768817 ]],\n",
              "\n",
              "       [[0.73103255, 0.4182174 , 0.11324539],\n",
              "        [0.7600294 , 0.4674523 , 0.17512034],\n",
              "        [0.7005556 , 0.4332587 , 0.11939315],\n",
              "        ...,\n",
              "        [0.18271075, 0.06550632, 0.0360646 ],\n",
              "        [0.22195444, 0.12127817, 0.11790819],\n",
              "        [0.10897771, 0.01757678, 0.01505009]],\n",
              "\n",
              "       [[0.7589107 , 0.4460956 , 0.14112358],\n",
              "        [0.75817347, 0.46559644, 0.17326447],\n",
              "        [0.78932935, 0.5220324 , 0.20816685],\n",
              "        ...,\n",
              "        [0.1957233 , 0.06444808, 0.03163904],\n",
              "        [0.14857924, 0.03424032, 0.01075447],\n",
              "        [0.46471632, 0.3558313 , 0.33276498]]], dtype=float32)>"
            ]
          },
          "metadata": {
            "tags": []
          },
          "execution_count": 24
        }
      ]
    },
    {
      "cell_type": "code",
      "metadata": {
        "id": "j_wl7o7dqAEi"
      },
      "source": [
        "def process_image_into_tensors(image_path, *label): # can we fix the length of labels\n",
        "  \"\"\"\n",
        "  Takes an image file path and turns the image into a Tensor.\n",
        "  Label is not present in test data\n",
        "  \"\"\"\n",
        "\n",
        "  # read an image file and store in a variable\n",
        "  image = tf.io.read_file(image_path)\n",
        "\n",
        "  # turn jpg into numerical tensor with RBG\n",
        "  image = tf.image.decode_jpeg(image, channels = 3)\n",
        "\n",
        "  # Convert the colour channel values 0-255 to 0-1, to make the computation more efficient\n",
        "  image = tf.image.convert_image_dtype(image, tf.float32)\n",
        "\n",
        "  # Resize to (244, 244)\n",
        "  image = tf.image.resize(image, size = [224, 224])\n",
        "\n",
        "  return image, label[0]"
      ],
      "execution_count": 25,
      "outputs": []
    },
    {
      "cell_type": "markdown",
      "metadata": {
        "id": "ETYWyMH8VDCE"
      },
      "source": [
        "## Create Batches"
      ]
    },
    {
      "cell_type": "code",
      "metadata": {
        "id": "6BX9zaFuY4JY"
      },
      "source": [
        "#usually the batch size is 32 only\n",
        "\n",
        "BATCH_SIZE = 32\n",
        "\n",
        "def create_data_batches(X, y = None, batch_size = BATCH_SIZE, \n",
        "                        valid_data = False, test_data = False):\n",
        "  \"\"\"\n",
        "  Test data will not have any y(image label)\n",
        "  Shuffles the data if it is training data\n",
        "  \"\"\"\n",
        "\n",
        "  if test_data :\n",
        "    print(\"Creating test data into batches..\")\n",
        "    data = tf.data.Dataset.from_tensor_slices((X)) #NOTE - Using X instead of tf.constant(X)\n",
        "    # data = data.map(process_image_into_tensors).batch(BATCH_SIZE)\n",
        "    \n",
        "  else:\n",
        "    data = tf.data.Dataset.from_tensor_slices((X, y))  \n",
        "    if valid_data:\n",
        "      print(\"Creating validation data batches..\")\n",
        "      # data = data.map(lambda X, y : # taking 2 elements and applying \n",
        "      #                 (process_image_into_tensors(X), y)).batch(BATCH_SIZE)\n",
        "    \n",
        "    \n",
        "    else :\n",
        "      print(\"Creating training data batches..\")\n",
        "      #now we will shuffle the data\n",
        "      data = data.shuffle(buffer_size = len(X))\n",
        "      # data = data.map(lambda X, y :\n",
        "      #                 (process_image_into_tensors(X), y)).batch(BATCH_SIZE)\n",
        "      \n",
        "  data = data.map(process_image_into_tensors).batch(BATCH_SIZE)\n",
        "  return data"
      ],
      "execution_count": 26,
      "outputs": []
    },
    {
      "cell_type": "code",
      "metadata": {
        "colab": {
          "base_uri": "https://localhost:8080/"
        },
        "id": "RcvHn3pRD8-5",
        "outputId": "d4c33e79-ff99-46e3-c2dc-561ad0fe2dac"
      },
      "source": [
        "# Create training and validation data batches\n",
        "train_data = create_data_batches(X_train, y_train)\n",
        "val_data = create_data_batches(X_val, y_val, valid_data=True)"
      ],
      "execution_count": 27,
      "outputs": [
        {
          "output_type": "stream",
          "text": [
            "Creating validation data batches..\n",
            "Creating validation data batches..\n"
          ],
          "name": "stdout"
        }
      ]
    },
    {
      "cell_type": "code",
      "metadata": {
        "id": "xNidOLW0D9IX"
      },
      "source": [
        ""
      ],
      "execution_count": 28,
      "outputs": []
    },
    {
      "cell_type": "code",
      "metadata": {
        "id": "roY8M9AoI1PZ"
      },
      "source": [
        ""
      ],
      "execution_count": null,
      "outputs": []
    },
    {
      "cell_type": "code",
      "metadata": {
        "id": "lu2NUgjKJGko"
      },
      "source": [
        ""
      ],
      "execution_count": null,
      "outputs": []
    }
  ]
}
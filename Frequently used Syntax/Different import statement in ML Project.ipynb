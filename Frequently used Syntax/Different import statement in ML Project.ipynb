{
 "cells": [
  {
   "cell_type": "code",
   "execution_count": 1,
   "metadata": {
    "ExecuteTime": {
     "end_time": "2020-08-31T13:51:18.829087Z",
     "start_time": "2020-08-31T13:51:16.878974Z"
    }
   },
   "outputs": [],
   "source": [
    "# Preprocessing\n",
    "from sklearn.compose import ColumnTransformer\n",
    "\n",
    "from sklearn.impute import SimpleImputer\n",
    "\n",
    "from sklearn.preprocessing import OneHotEncoder\n",
    "\n",
    "from sklearn.model_selection import train_test_split\n"
   ]
  },
  {
   "cell_type": "code",
   "execution_count": 2,
   "metadata": {
    "ExecuteTime": {
     "end_time": "2020-08-31T13:51:18.926071Z",
     "start_time": "2020-08-31T13:51:18.834113Z"
    }
   },
   "outputs": [],
   "source": [
    "#Importing models\n",
    "from sklearn.ensemble import RandomForestClassifier, RandomForestRegressor\n",
    "\n",
    "from sklearn.linear_model import Ridge, LogisticRegression\n",
    "\n",
    "from sklearn.svm import SVR, LinearSVC, SVC\n",
    "\n",
    "from sklearn.neighbors import KNeighborsClassifier\n",
    "\n"
   ]
  },
  {
   "cell_type": "code",
   "execution_count": 3,
   "metadata": {
    "ExecuteTime": {
     "end_time": "2020-08-31T13:51:18.937127Z",
     "start_time": "2020-08-31T13:51:18.932101Z"
    }
   },
   "outputs": [],
   "source": [
    "# Pipeline\n",
    "from sklearn.pipeline import Pipeline"
   ]
  },
  {
   "cell_type": "code",
   "execution_count": 4,
   "metadata": {
    "ExecuteTime": {
     "end_time": "2020-08-31T13:51:18.989386Z",
     "start_time": "2020-08-31T13:51:18.946673Z"
    }
   },
   "outputs": [],
   "source": [
    "#Hyper-parameter optimizers\n",
    "from sklearn.model_selection import RandomizedSearchCV, GridSearchCV"
   ]
  },
  {
   "cell_type": "code",
   "execution_count": 2,
   "metadata": {
    "ExecuteTime": {
     "end_time": "2020-09-02T13:48:32.385267Z",
     "start_time": "2020-09-02T13:48:32.376218Z"
    }
   },
   "outputs": [],
   "source": [
    "# Evaluation of a model\n",
    "\n",
    "from sklearn.model_selection import cross_val_score\n",
    "\n",
    "#for Regression\n",
    "from sklearn.metrics import mean_absolute_error, mean_squared_error, r2_score \n",
    "\n",
    "#for classification\n",
    "from sklearn.metrics import classification_report, precision_recall_curve,\\\n",
    "precision_score, recall_score, f1_score, roc_auc_score, roc_curve, confusion_matrixu\n"
   ]
  },
  {
   "cell_type": "code",
   "execution_count": 6,
   "metadata": {
    "ExecuteTime": {
     "end_time": "2020-08-31T13:51:19.127072Z",
     "start_time": "2020-08-31T13:51:19.052200Z"
    }
   },
   "outputs": [],
   "source": [
    "#Exporting and reusing the model\n",
    "\n",
    "from joblib import dump, load"
   ]
  },
  {
   "cell_type": "code",
   "execution_count": null,
   "metadata": {},
   "outputs": [],
   "source": []
  }
 ],
 "metadata": {
  "kernelspec": {
   "display_name": "Python 3",
   "language": "python",
   "name": "python3"
  },
  "language_info": {
   "codemirror_mode": {
    "name": "ipython",
    "version": 3
   },
   "file_extension": ".py",
   "mimetype": "text/x-python",
   "name": "python",
   "nbconvert_exporter": "python",
   "pygments_lexer": "ipython3",
   "version": "3.7.6"
  },
  "varInspector": {
   "cols": {
    "lenName": 16,
    "lenType": 16,
    "lenVar": 40
   },
   "kernels_config": {
    "python": {
     "delete_cmd_postfix": "",
     "delete_cmd_prefix": "del ",
     "library": "var_list.py",
     "varRefreshCmd": "print(var_dic_list())"
    },
    "r": {
     "delete_cmd_postfix": ") ",
     "delete_cmd_prefix": "rm(",
     "library": "var_list.r",
     "varRefreshCmd": "cat(var_dic_list()) "
    }
   },
   "types_to_exclude": [
    "module",
    "function",
    "builtin_function_or_method",
    "instance",
    "_Feature"
   ],
   "window_display": false
  }
 },
 "nbformat": 4,
 "nbformat_minor": 4
}

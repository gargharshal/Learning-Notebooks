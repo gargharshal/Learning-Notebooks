{
  "nbformat": 4,
  "nbformat_minor": 5,
  "metadata": {
    "kernelspec": {
      "display_name": "Python 3",
      "language": "python",
      "name": "python3"
    },
    "language_info": {
      "codemirror_mode": {
        "name": "ipython",
        "version": 3
      },
      "file_extension": ".py",
      "mimetype": "text/x-python",
      "name": "python",
      "nbconvert_exporter": "python",
      "pygments_lexer": "ipython3",
      "version": "3.8.8"
    },
    "colab": {
      "name": "Seaborn-revision.ipynb",
      "provenance": []
    }
  },
  "cells": [
    {
      "cell_type": "markdown",
      "metadata": {
        "id": "a295305d-338c-461b-b739-6135463414ac"
      },
      "source": [
        "The plots are based on these 2 articles.\n",
        "\n",
        "1. [Python Seaborn tutarial](https://elitedatascience.com/python-seaborn-tutorial)  \n",
        "2. [Medium Seaborn beginner tutorial](https://medium.com/beeranddiapers/distribution-plotspermalink-f215d47d854e)   "
      ],
      "id": "a295305d-338c-461b-b739-6135463414ac"
    },
    {
      "cell_type": "code",
      "metadata": {
        "id": "88633421-2775-4485-908f-4430920efae6"
      },
      "source": [
        "import numpy as np\n",
        "import pandas as pd\n",
        "import matplotlib.pyplot as plt\n",
        "import seaborn as sns\n",
        "%matplotlib inline"
      ],
      "id": "88633421-2775-4485-908f-4430920efae6",
      "execution_count": 12,
      "outputs": []
    },
    {
      "cell_type": "code",
      "metadata": {
        "colab": {
          "base_uri": "https://localhost:8080/",
          "height": 204
        },
        "id": "eb005ca3-6cf1-4667-9d46-af0aa2c71328",
        "outputId": "90fe531a-49c6-4301-b9c6-927de192829e"
      },
      "source": [
        "df = pd.read_csv('https://raw.githubusercontent.com/gargharshal/Learning-Notebooks/master/Seaborn/Pokemon.csv', \n",
        "                 encoding=\"unicode_escape\")\n",
        "df.drop(['#'], axis = 1, inplace = True)\n",
        "df.head()"
      ],
      "id": "eb005ca3-6cf1-4667-9d46-af0aa2c71328",
      "execution_count": 13,
      "outputs": [
        {
          "output_type": "execute_result",
          "data": {
            "text/html": [
              "<div>\n",
              "<style scoped>\n",
              "    .dataframe tbody tr th:only-of-type {\n",
              "        vertical-align: middle;\n",
              "    }\n",
              "\n",
              "    .dataframe tbody tr th {\n",
              "        vertical-align: top;\n",
              "    }\n",
              "\n",
              "    .dataframe thead th {\n",
              "        text-align: right;\n",
              "    }\n",
              "</style>\n",
              "<table border=\"1\" class=\"dataframe\">\n",
              "  <thead>\n",
              "    <tr style=\"text-align: right;\">\n",
              "      <th></th>\n",
              "      <th>Name</th>\n",
              "      <th>Type 1</th>\n",
              "      <th>Type 2</th>\n",
              "      <th>Total</th>\n",
              "      <th>HP</th>\n",
              "      <th>Attack</th>\n",
              "      <th>Defense</th>\n",
              "      <th>Sp. Atk</th>\n",
              "      <th>Sp. Def</th>\n",
              "      <th>Speed</th>\n",
              "      <th>Stage</th>\n",
              "      <th>Legendary</th>\n",
              "    </tr>\n",
              "  </thead>\n",
              "  <tbody>\n",
              "    <tr>\n",
              "      <th>0</th>\n",
              "      <td>Bulbasaur</td>\n",
              "      <td>Grass</td>\n",
              "      <td>Poison</td>\n",
              "      <td>318</td>\n",
              "      <td>45</td>\n",
              "      <td>49</td>\n",
              "      <td>49</td>\n",
              "      <td>65</td>\n",
              "      <td>65</td>\n",
              "      <td>45</td>\n",
              "      <td>1</td>\n",
              "      <td>False</td>\n",
              "    </tr>\n",
              "    <tr>\n",
              "      <th>1</th>\n",
              "      <td>Ivysaur</td>\n",
              "      <td>Grass</td>\n",
              "      <td>Poison</td>\n",
              "      <td>405</td>\n",
              "      <td>60</td>\n",
              "      <td>62</td>\n",
              "      <td>63</td>\n",
              "      <td>80</td>\n",
              "      <td>80</td>\n",
              "      <td>60</td>\n",
              "      <td>2</td>\n",
              "      <td>False</td>\n",
              "    </tr>\n",
              "    <tr>\n",
              "      <th>2</th>\n",
              "      <td>Venusaur</td>\n",
              "      <td>Grass</td>\n",
              "      <td>Poison</td>\n",
              "      <td>525</td>\n",
              "      <td>80</td>\n",
              "      <td>82</td>\n",
              "      <td>83</td>\n",
              "      <td>100</td>\n",
              "      <td>100</td>\n",
              "      <td>80</td>\n",
              "      <td>3</td>\n",
              "      <td>False</td>\n",
              "    </tr>\n",
              "    <tr>\n",
              "      <th>3</th>\n",
              "      <td>Charmander</td>\n",
              "      <td>Fire</td>\n",
              "      <td>NaN</td>\n",
              "      <td>309</td>\n",
              "      <td>39</td>\n",
              "      <td>52</td>\n",
              "      <td>43</td>\n",
              "      <td>60</td>\n",
              "      <td>50</td>\n",
              "      <td>65</td>\n",
              "      <td>1</td>\n",
              "      <td>False</td>\n",
              "    </tr>\n",
              "    <tr>\n",
              "      <th>4</th>\n",
              "      <td>Charmeleon</td>\n",
              "      <td>Fire</td>\n",
              "      <td>NaN</td>\n",
              "      <td>405</td>\n",
              "      <td>58</td>\n",
              "      <td>64</td>\n",
              "      <td>58</td>\n",
              "      <td>80</td>\n",
              "      <td>65</td>\n",
              "      <td>80</td>\n",
              "      <td>2</td>\n",
              "      <td>False</td>\n",
              "    </tr>\n",
              "  </tbody>\n",
              "</table>\n",
              "</div>"
            ],
            "text/plain": [
              "         Name Type 1  Type 2  Total  ...  Sp. Def  Speed  Stage  Legendary\n",
              "0   Bulbasaur  Grass  Poison    318  ...       65     45      1      False\n",
              "1     Ivysaur  Grass  Poison    405  ...       80     60      2      False\n",
              "2    Venusaur  Grass  Poison    525  ...      100     80      3      False\n",
              "3  Charmander   Fire     NaN    309  ...       50     65      1      False\n",
              "4  Charmeleon   Fire     NaN    405  ...       65     80      2      False\n",
              "\n",
              "[5 rows x 12 columns]"
            ]
          },
          "metadata": {
            "tags": []
          },
          "execution_count": 13
        }
      ]
    },
    {
      "cell_type": "code",
      "metadata": {
        "colab": {
          "base_uri": "https://localhost:8080/",
          "height": 0
        },
        "id": "57971dfc-d3d9-4e3b-9b77-47ea1a9842c4",
        "outputId": "2706de89-c8c6-4fa8-91c5-cae5ddb788c0"
      },
      "source": [
        "df.info()"
      ],
      "id": "57971dfc-d3d9-4e3b-9b77-47ea1a9842c4",
      "execution_count": 14,
      "outputs": [
        {
          "output_type": "stream",
          "text": [
            "<class 'pandas.core.frame.DataFrame'>\n",
            "RangeIndex: 151 entries, 0 to 150\n",
            "Data columns (total 12 columns):\n",
            " #   Column     Non-Null Count  Dtype \n",
            "---  ------     --------------  ----- \n",
            " 0   Name       151 non-null    object\n",
            " 1   Type 1     151 non-null    object\n",
            " 2   Type 2     67 non-null     object\n",
            " 3   Total      151 non-null    int64 \n",
            " 4   HP         151 non-null    int64 \n",
            " 5   Attack     151 non-null    int64 \n",
            " 6   Defense    151 non-null    int64 \n",
            " 7   Sp. Atk    151 non-null    int64 \n",
            " 8   Sp. Def    151 non-null    int64 \n",
            " 9   Speed      151 non-null    int64 \n",
            " 10  Stage      151 non-null    int64 \n",
            " 11  Legendary  151 non-null    bool  \n",
            "dtypes: bool(1), int64(8), object(3)\n",
            "memory usage: 13.2+ KB\n"
          ],
          "name": "stdout"
        }
      ]
    },
    {
      "cell_type": "code",
      "metadata": {
        "colab": {
          "base_uri": "https://localhost:8080/",
          "height": 0
        },
        "id": "d06beeda-940c-4d7f-8f24-88f696252cd9",
        "outputId": "723d2732-972f-4b49-fb55-4c0e6304fa2a"
      },
      "source": [
        "df['Type 1'].unique(), df['Type 2'].unique()"
      ],
      "id": "d06beeda-940c-4d7f-8f24-88f696252cd9",
      "execution_count": 15,
      "outputs": [
        {
          "output_type": "execute_result",
          "data": {
            "text/plain": [
              "(array(['Grass', 'Fire', 'Water', 'Bug', 'Normal', 'Poison', 'Electric',\n",
              "        'Ground', 'Fairy', 'Fighting', 'Psychic', 'Rock', 'Ghost', 'Ice',\n",
              "        'Dragon'], dtype=object),\n",
              " array(['Poison', nan, 'Flying', 'Ground', 'Fairy', 'Grass', 'Fighting',\n",
              "        'Psychic', 'Steel', 'Ice', 'Rock', 'Water'], dtype=object))"
            ]
          },
          "metadata": {
            "tags": []
          },
          "execution_count": 15
        }
      ]
    },
    {
      "cell_type": "markdown",
      "metadata": {
        "id": "141e4075-3c4e-4a9e-8b01-24b46771f9bb"
      },
      "source": [
        "## Scatter Plot\n",
        "\n",
        "- regplot\n",
        "- lmplot\n",
        "- scatter (matplotlib)"
      ],
      "id": "141e4075-3c4e-4a9e-8b01-24b46771f9bb"
    },
    {
      "cell_type": "code",
      "metadata": {
        "colab": {
          "base_uri": "https://localhost:8080/",
          "height": 334
        },
        "id": "f5a19d08-4d6f-4ae7-bb76-9a7477ed245b",
        "outputId": "553258d4-5250-4f2c-c2e7-117b59624e74"
      },
      "source": [
        "# sns.lmplot(x = df['Attack'], y = df['Defense']) # dosen't work\n",
        "fig, ax = plt.subplots(figsize = (10, 5))\n",
        "sns.regplot(x = 'Attack', y = 'Defense', \n",
        "            data = df, \n",
        "            ax = ax,\n",
        "            fit_reg = True); # This will create the regression line"
      ],
      "id": "f5a19d08-4d6f-4ae7-bb76-9a7477ed245b",
      "execution_count": 16,
      "outputs": [
        {
          "output_type": "display_data",
          "data": {
            "image/png": "[encoded data removed]",
            "text/plain": [
              "<Figure size 720x360 with 1 Axes>"
            ]
          },
          "metadata": {
            "tags": [],
            "needs_background": "light"
          }
        }
      ]
    },
    {
      "cell_type": "code",
      "metadata": {
        "colab": {
          "base_uri": "https://localhost:8080/",
          "height": 383
        },
        "id": "fdd227ae-97c8-458a-95fd-8214c5193d6d",
        "outputId": "9d9bf1f0-1261-434c-e95e-a6384725feed"
      },
      "source": [
        "# in general the above method works for all but not for lmplot and joinplot\n",
        "sns.lmplot(x = 'Attack', y = 'Defense', data = df, \n",
        "           hue = 'Stage', # define subsets of the data           \n",
        "           fit_reg = False, #this would have created 3 reg lines\n",
        "           height = 5, aspect = 2); # alternative to chnage figsize"
      ],
      "id": "fdd227ae-97c8-458a-95fd-8214c5193d6d",
      "execution_count": 17,
      "outputs": [
        {
          "output_type": "display_data",
          "data": {
            "image/png": "[encoded data removed]",
            "text/plain": [
              "<Figure size 762.375x360 with 1 Axes>"
            ]
          },
          "metadata": {
            "tags": [],
            "needs_background": "light"
          }
        }
      ]
    },
    {
      "cell_type": "markdown",
      "metadata": {
        "id": "639fad8c-c30f-49e6-be72-61c3a1c919f5"
      },
      "source": [
        "## Boxplot\n",
        "\n",
        "\n",
        "<img src =\"https://github.com/gargharshal/Learning-Notebooks/blob/master/images/boxplot.png?raw=true\" width = '500'/>"
      ],
      "id": "639fad8c-c30f-49e6-be72-61c3a1c919f5"
    },
    {
      "cell_type": "code",
      "metadata": {
        "colab": {
          "base_uri": "https://localhost:8080/",
          "height": 265
        },
        "id": "NwvtOkBgYa_a",
        "outputId": "6ffe52b3-2f9c-4bbb-cefb-7a371e84439b"
      },
      "source": [
        "sns.boxplot(data = df);"
      ],
      "id": "NwvtOkBgYa_a",
      "execution_count": 22,
      "outputs": [
        {
          "output_type": "display_data",
          "data": {
            "image/png": "[encoded data removed]",
            "text/plain": [
              "<Figure size 432x288 with 1 Axes>"
            ]
          },
          "metadata": {
            "tags": [],
            "needs_background": "light"
          }
        }
      ]
    },
    {
      "cell_type": "code",
      "metadata": {
        "colab": {
          "base_uri": "https://localhost:8080/",
          "height": 265
        },
        "id": "jnYdM74nYh3H",
        "outputId": "45f71644-e3db-4be2-b973-e47048340982"
      },
      "source": [
        "# a better visual\n",
        "sns.boxplot(data = df.drop(['Total', 'Stage', 'Legendary'], axis = 1));"
      ],
      "id": "jnYdM74nYh3H",
      "execution_count": 23,
      "outputs": [
        {
          "output_type": "display_data",
          "data": {
            "image/png": "[encoded data removed]",
            "text/plain": [
              "<Figure size 432x288 with 1 Axes>"
            ]
          },
          "metadata": {
            "tags": [],
            "needs_background": "light"
          }
        }
      ]
    },
    {
      "cell_type": "code",
      "metadata": {
        "id": "reRgsxqeZARd"
      },
      "source": [
        ""
      ],
      "id": "reRgsxqeZARd",
      "execution_count": null,
      "outputs": []
    }
  ]
}